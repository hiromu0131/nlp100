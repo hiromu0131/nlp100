{
 "cells": [
  {
   "cell_type": "code",
   "execution_count": 1,
   "metadata": {},
   "outputs": [],
   "source": [
    "import numpy as np"
   ]
  },
  {
   "cell_type": "code",
   "execution_count": 2,
   "metadata": {},
   "outputs": [],
   "source": [
    "# ロードしたデータを訓練データ用のStringと正解ラベルに分ける\n",
    "def split_vector(data):\n",
    "    y = np.zeros(len(data) - 1)\n",
    "    x = []\n",
    "    for i, d in enumerate(data):\n",
    "        if i == len(data) - 1:\n",
    "            break\n",
    "        c = 3\n",
    "        if (d[0] == 'b') : c = 0\n",
    "        if (d[0] == 't') : c = 1\n",
    "        if (d[0] == 'e') : c = 2\n",
    "        y[i] = c\n",
    "        x.append(d[1])\n",
    "    \n",
    "    return (x, y.astype(np.uint8))"
   ]
  },
  {
   "cell_type": "code",
   "execution_count": 3,
   "metadata": {},
   "outputs": [
    {
     "name": "stdout",
     "output_type": "stream",
     "text": [
      "8708 (8708,)\n",
      "1099 (1099,)\n",
      "1088 (1088,)\n"
     ]
    }
   ],
   "source": [
    "# 70\n",
    "file_path = '../data/NewsAggregatorDataset/'\n",
    "\n",
    "with open(file_path + 'train.txt') as f:\n",
    "    train_data = f.read().split('\\n')\n",
    "x_train, y_train = split_vector([d.split('\\t') for d in train_data])\n",
    "print(len(x_train), y_train.shape)\n",
    "\n",
    "with open(file_path + 'test.txt') as f:\n",
    "    test_data = f.read().split('\\n')\n",
    "x_test, y_test = split_vector([d.split('\\t') for d in test_data])\n",
    "print(len(x_test), y_test.shape)\n",
    "\n",
    "with open(file_path + 'valid.txt') as f:\n",
    "    valid_data = f.read().split('\\n')\n",
    "x_valid, y_valid = split_vector([d.split('\\t') for d in valid_data])\n",
    "print(len(x_valid), y_valid.shape)"
   ]
  },
  {
   "cell_type": "code",
   "execution_count": 4,
   "metadata": {},
   "outputs": [],
   "source": [
    "import MeCab\n",
    "from gensim.models import KeyedVectors\n",
    "news_path = '../data/GoogleNews-vectors-negative300.bin'\n",
    "words = KeyedVectors.load_word2vec_format(news_path, binary = True)"
   ]
  },
  {
   "cell_type": "code",
   "execution_count": 5,
   "metadata": {},
   "outputs": [],
   "source": [
    "def vec2sum(vector_data, dim):\n",
    "    mecab = MeCab.Tagger()\n",
    "    vector_sum = np.zeros((len(vector_data), dim))\n",
    "    for i, v in enumerate(vector_data):\n",
    "        morph = mecab.parse(v)\n",
    "        words_ = morph.split('\\n')\n",
    "        vector = np.zeros(dim)\n",
    "        cnt = 0\n",
    "        for word in words_:\n",
    "            noun = word.split('\\t')[0]\n",
    "            if noun == 'EOS':\n",
    "                if cnt == 0:\n",
    "                    break\n",
    "                vector_sum[i] = (vector / cnt)\n",
    "                break\n",
    "            \n",
    "            try :\n",
    "                cnt += 1\n",
    "                vector += words[noun]\n",
    "            except KeyError as error:\n",
    "                continue\n",
    "    return vector_sum"
   ]
  },
  {
   "cell_type": "code",
   "execution_count": 6,
   "metadata": {},
   "outputs": [
    {
     "name": "stdout",
     "output_type": "stream",
     "text": [
      "8708\n",
      "(8708, 300)\n"
     ]
    }
   ],
   "source": [
    "x_feature = vec2sum(x_train, 300)\n",
    "print(len(x_train))\n",
    "print(x_feature.shape)"
   ]
  },
  {
   "cell_type": "code",
   "execution_count": 7,
   "metadata": {},
   "outputs": [],
   "source": [
    "import torch\n",
    "import torch.nn as nn\n",
    "import torch.nn.functional as func\n",
    "import torch.optim as optim\n",
    "from torch.autograd import Variable\n",
    "dim = words['US'].shape[0] # 単語ベクトルの次元"
   ]
  },
  {
   "cell_type": "code",
   "execution_count": 8,
   "metadata": {},
   "outputs": [
    {
     "name": "stdout",
     "output_type": "stream",
     "text": [
      "torch.Size([300, 4])\n",
      "torch.Size([1, 300])\n",
      "tensor([[0.0803, 0.3842, 0.3113, 0.2243]], grad_fn=<SoftmaxBackward>)\n"
     ]
    },
    {
     "name": "stderr",
     "output_type": "stream",
     "text": [
      "/Users/taimu/yes/lib/python3.7/site-packages/ipykernel_launcher.py:11: UserWarning: Implicit dimension choice for softmax has been deprecated. Change the call to include dim=X as an argument.\n",
      "  # This is added back by InteractiveShellApp.init_path()\n"
     ]
    }
   ],
   "source": [
    "# 71\n",
    "w = np.random.rand(dim, 4)\n",
    "w = torch.randn(dim, 4, requires_grad = True)\n",
    "print(w.shape)\n",
    "\n",
    "# 1次元=>2次元\n",
    "x_f = np.array([x_feature[0]]) \n",
    "x_f = torch.tensor(x_f, requires_grad = True)\n",
    "print(x_f.shape)\n",
    "\n",
    "x_f_w = func.softmax(torch.mm(x_f.float(), w.float()))\n",
    "print(x_f_w)"
   ]
  },
  {
   "cell_type": "code",
   "execution_count": 9,
   "metadata": {},
   "outputs": [
    {
     "name": "stdout",
     "output_type": "stream",
     "text": [
      "tensor([[0.0803, 0.3842, 0.3113, 0.2243],\n",
      "        [0.2538, 0.4910, 0.0384, 0.2169],\n",
      "        [0.3479, 0.3272, 0.2324, 0.0925],\n",
      "        [0.1113, 0.3930, 0.2663, 0.2294]], grad_fn=<SoftmaxBackward>)\n"
     ]
    }
   ],
   "source": [
    "# 複数事例\n",
    "x_f_Y = torch.tensor(x_feature[0:4], requires_grad = True)\n",
    "Y_ = func.softmax(torch.mm(x_f_Y.float(), w.float()).float(), dim = 1)\n",
    "print(Y_)"
   ]
  },
  {
   "cell_type": "code",
   "execution_count": 10,
   "metadata": {},
   "outputs": [
    {
     "name": "stdout",
     "output_type": "stream",
     "text": [
      "2\n",
      "tensor([[0.0803, 0.3842, 0.3113, 0.2243]], grad_fn=<SoftmaxBackward>)\n",
      "tensor(1.3313, grad_fn=<NllLossBackward>)\n",
      "tensor([[-0.0003, -0.0020,  0.0034, -0.0010],\n",
      "        [ 0.0022,  0.0133, -0.0222,  0.0068],\n",
      "        [-0.0002, -0.0015,  0.0026, -0.0008],\n",
      "        ...,\n",
      "        [-0.0017, -0.0103,  0.0172, -0.0052],\n",
      "        [-0.0006, -0.0038,  0.0064, -0.0020],\n",
      "        [-0.0003, -0.0018,  0.0029, -0.0009]])\n",
      "tensor(1.3313, grad_fn=<AddBackward0>)\n"
     ]
    }
   ],
   "source": [
    "from math import exp, log\n",
    "\n",
    "criterion = nn.CrossEntropyLoss()\n",
    "print(y_train[0])\n",
    "y = criterion(x_f_w, torch.tensor(np.array([y_train[0]])).long())\n",
    "print(x_f_w)\n",
    "y.backward()\n",
    "print(y)\n",
    "print(w.grad)\n",
    "\n",
    "# 検算\n",
    "x_sum = 0\n",
    "for i in x_f_w[0]:\n",
    "    x_sum += exp(i)\n",
    "x_ = x_f_w[0][y_train[0]]\n",
    "ans = -x_ + log(x_sum)\n",
    "print(ans)"
   ]
  },
  {
   "cell_type": "code",
   "execution_count": 11,
   "metadata": {},
   "outputs": [
    {
     "name": "stdout",
     "output_type": "stream",
     "text": [
      "tensor(1.3869, grad_fn=<NllLossBackward>)\n",
      "tensor([[-0.0033,  0.0036,  0.0012, -0.0014],\n",
      "        [-0.0015,  0.0213, -0.0309,  0.0111],\n",
      "        [ 0.0020, -0.0038,  0.0036, -0.0018],\n",
      "        ...,\n",
      "        [-0.0033, -0.0096,  0.0210, -0.0081],\n",
      "        [-0.0004, -0.0036,  0.0072, -0.0032],\n",
      "        [ 0.0021, -0.0040,  0.0062, -0.0043]])\n"
     ]
    }
   ],
   "source": [
    "# 複数事例\n",
    "Y = criterion(Y_, torch.tensor(y_train[0:4]).long())\n",
    "print(Y)\n",
    "Y.backward()\n",
    "print(w.grad)"
   ]
  },
  {
   "cell_type": "code",
   "execution_count": 12,
   "metadata": {},
   "outputs": [],
   "source": [
    "import time"
   ]
  },
  {
   "cell_type": "code",
   "execution_count": 13,
   "metadata": {},
   "outputs": [],
   "source": [
    "class MyNet(nn.Module):\n",
    "    def __init__(self, input_size):\n",
    "        super(MyNet, self).__init__()\n",
    "        self.fc1 = torch.nn.Linear(input_size, 4)\n",
    "        \n",
    "    def forward(self, x):\n",
    "        x = func.softmax(self.fc1(x))\n",
    "        return x"
   ]
  },
  {
   "cell_type": "code",
   "execution_count": 14,
   "metadata": {},
   "outputs": [],
   "source": [
    "model = MyNet(dim)\n",
    "optimizer = optim.SGD(model.parameters(), lr = 0.01, momentum = 0.9)\n",
    "num_epochs = 100\n",
    "save_path = '../data/params.tar'"
   ]
  },
  {
   "cell_type": "code",
   "execution_count": 15,
   "metadata": {},
   "outputs": [],
   "source": [
    "def train(num_epochs, num_batches, x_train, y_train, optimizer, model):\n",
    "    \n",
    "    # epoch毎の損失と精度を保持するリスト\n",
    "    losses = []\n",
    "    accs = []\n",
    "\n",
    "    num_data = x_train.shape[0]\n",
    "    \n",
    "    for epoch in range(num_epochs):\n",
    "\n",
    "        # epoch毎の損失と精度\n",
    "        running_loss = 0.0\n",
    "        accuracy = 0.0\n",
    "        \n",
    "        # 開始時間のメモ\n",
    "        t = time.time()\n",
    "        \n",
    "        # ミニバッチ学習のために訓練データのインデックスをランダムに並べ替える\n",
    "        index = np.random.permutation(num_data)\n",
    "        \n",
    "        for i in range(0, num_data, num_batches):\n",
    "            # NNへの入力と正解ラベル\n",
    "            in_, label = torch.tensor(x_train[index[i : i + num_batches if i + num_batches < num_data else num_data]]), \\\n",
    "                         torch.tensor(y_train[index[i : i + num_batches if i + num_batches < num_data else num_data]]).long()\n",
    "        \n",
    "            # 最適化関数の初期化\n",
    "            optimizer.zero_grad()\n",
    "        \n",
    "            # 予測とロスの計算\n",
    "            out_ = model(in_.float())\n",
    "            loss = criterion(out_, label)\n",
    "            \n",
    "            _, idx = torch.max(out_, 1)\n",
    "            \n",
    "            # バッチ数のラベルが出てくるので，いくつ正解しているかカウント\n",
    "            cnt = 0\n",
    "            for i in range(idx.shape[0]):\n",
    "                if idx[i] == label[i]:\n",
    "                    cnt += 1\n",
    "            accuracy += cnt / idx.shape[0]\n",
    "        \n",
    "            # パラメーターの更新\n",
    "            loss.backward()\n",
    "            optimizer.step()\n",
    "            running_loss += loss.data\n",
    "        \n",
    "        # 各種データの出力・保存\n",
    "        num_loop = num_data / num_batches\n",
    "        print('[ epoch:{0}, time:{3} ]  acc: {1:.4f}  loss:{2:.4f}'.format(epoch + 1, accuracy / num_loop, running_loss / num_loop, time.time() - t))\n",
    "        accs.append(accuracy / num_loop)\n",
    "        losses.append(running_loss / num_loop)\n",
    "        \n",
    "        # 状況の保存\n",
    "        torch.save({\n",
    "          'epoch': epoch,\n",
    "          'model_state_dict': model.state_dict(),\n",
    "          'optimizer_state_dict': optimizer.state_dict(),\n",
    "          'loss': running_loss / num_loop,\n",
    "          }, save_path)\n",
    "        \n",
    "    return (model, accs, losses)"
   ]
  },
  {
   "cell_type": "code",
   "execution_count": 16,
   "metadata": {},
   "outputs": [],
   "source": [
    "def eval(x, y, model):\n",
    "    total = x.shape[0]\n",
    "    cnt = 0\n",
    "    for i in range(x.shape[0]):\n",
    "        in_, label = torch.from_numpy(np.array([x[i]])), \\\n",
    "                     torch.tensor(np.array([y[i]])).long()\n",
    "        p = model(in_.float())\n",
    "        _, index = torch.max(p, 1)\n",
    "        if index == label:\n",
    "            cnt += 1\n",
    "    return (cnt * 100 / total)"
   ]
  },
  {
   "cell_type": "code",
   "execution_count": 17,
   "metadata": {
    "scrolled": true
   },
   "outputs": [
    {
     "name": "stderr",
     "output_type": "stream",
     "text": [
      "/Users/taimu/yes/lib/python3.7/site-packages/ipykernel_launcher.py:7: UserWarning: Implicit dimension choice for softmax has been deprecated. Change the call to include dim=X as an argument.\n",
      "  import sys\n"
     ]
    },
    {
     "name": "stdout",
     "output_type": "stream",
     "text": [
      "[ epoch:1, time:2.4124608039855957 ]  acc: 0.8096  loss:0.9744\n",
      "[ epoch:2, time:2.3835861682891846 ]  acc: 0.8228  loss:0.9322\n",
      "[ epoch:3, time:2.3446249961853027 ]  acc: 0.8246  loss:0.9265\n",
      "[ epoch:4, time:2.354555130004883 ]  acc: 0.8259  loss:0.9237\n",
      "[ epoch:5, time:2.348209857940674 ]  acc: 0.8275  loss:0.9218\n",
      "[ epoch:6, time:2.3424880504608154 ]  acc: 0.8276  loss:0.9204\n",
      "[ epoch:7, time:2.334503173828125 ]  acc: 0.8283  loss:0.9193\n",
      "[ epoch:8, time:2.3277649879455566 ]  acc: 0.8290  loss:0.9184\n",
      "[ epoch:9, time:2.335322141647339 ]  acc: 0.8289  loss:0.9177\n",
      "[ epoch:10, time:2.335034132003784 ]  acc: 0.8297  loss:0.9172\n",
      "[ epoch:11, time:2.4011900424957275 ]  acc: 0.8294  loss:0.9166\n",
      "[ epoch:12, time:2.375515937805176 ]  acc: 0.8294  loss:0.9162\n",
      "[ epoch:13, time:2.3343920707702637 ]  acc: 0.8303  loss:0.9157\n",
      "[ epoch:14, time:2.3292810916900635 ]  acc: 0.8307  loss:0.9153\n",
      "[ epoch:15, time:2.3154046535491943 ]  acc: 0.8310  loss:0.9150\n",
      "[ epoch:16, time:2.358058214187622 ]  acc: 0.8308  loss:0.9147\n",
      "[ epoch:17, time:2.3211898803710938 ]  acc: 0.8313  loss:0.9143\n",
      "[ epoch:18, time:2.330265998840332 ]  acc: 0.8316  loss:0.9141\n",
      "[ epoch:19, time:2.3606269359588623 ]  acc: 0.8316  loss:0.9139\n",
      "[ epoch:20, time:2.482545852661133 ]  acc: 0.8315  loss:0.9136\n",
      "[ epoch:21, time:2.3282508850097656 ]  acc: 0.8325  loss:0.9134\n",
      "[ epoch:22, time:2.32476806640625 ]  acc: 0.8323  loss:0.9132\n",
      "[ epoch:23, time:2.336207866668701 ]  acc: 0.8325  loss:0.9130\n",
      "[ epoch:24, time:2.324209690093994 ]  acc: 0.8325  loss:0.9127\n",
      "[ epoch:25, time:2.329379081726074 ]  acc: 0.8330  loss:0.9127\n",
      "[ epoch:26, time:2.3352789878845215 ]  acc: 0.8322  loss:0.9124\n",
      "[ epoch:27, time:2.3407318592071533 ]  acc: 0.8330  loss:0.9123\n",
      "[ epoch:28, time:2.3342840671539307 ]  acc: 0.8325  loss:0.9121\n",
      "[ epoch:29, time:2.329598903656006 ]  acc: 0.8328  loss:0.9120\n",
      "[ epoch:30, time:2.3250420093536377 ]  acc: 0.8328  loss:0.9117\n",
      "[ epoch:31, time:2.328754186630249 ]  acc: 0.8329  loss:0.9116\n",
      "[ epoch:32, time:2.335188865661621 ]  acc: 0.8331  loss:0.9113\n",
      "[ epoch:33, time:2.319293975830078 ]  acc: 0.8330  loss:0.9105\n",
      "[ epoch:34, time:2.3276119232177734 ]  acc: 0.8396  loss:0.9038\n",
      "[ epoch:35, time:2.313363790512085 ]  acc: 0.8576  loss:0.8923\n",
      "[ epoch:36, time:2.3223438262939453 ]  acc: 0.8814  loss:0.8787\n",
      "[ epoch:37, time:2.334479331970215 ]  acc: 0.8989  loss:0.8661\n",
      "[ epoch:38, time:2.3266959190368652 ]  acc: 0.9050  loss:0.8581\n",
      "[ epoch:39, time:2.3081958293914795 ]  acc: 0.9081  loss:0.8525\n",
      "[ epoch:40, time:2.311107873916626 ]  acc: 0.9104  loss:0.8483\n",
      "[ epoch:41, time:2.3190369606018066 ]  acc: 0.9150  loss:0.8450\n",
      "[ epoch:42, time:2.310749053955078 ]  acc: 0.9165  loss:0.8424\n",
      "[ epoch:43, time:2.3089568614959717 ]  acc: 0.9181  loss:0.8400\n",
      "[ epoch:44, time:2.378668785095215 ]  acc: 0.9201  loss:0.8384\n",
      "[ epoch:45, time:2.455411911010742 ]  acc: 0.9204  loss:0.8366\n",
      "[ epoch:46, time:2.3882617950439453 ]  acc: 0.9226  loss:0.8355\n",
      "[ epoch:47, time:2.3209750652313232 ]  acc: 0.9224  loss:0.8340\n",
      "[ epoch:48, time:2.339406967163086 ]  acc: 0.9240  loss:0.8332\n",
      "[ epoch:49, time:2.325566053390503 ]  acc: 0.9236  loss:0.8322\n",
      "[ epoch:50, time:2.311375856399536 ]  acc: 0.9234  loss:0.8312\n",
      "[ epoch:51, time:2.3014369010925293 ]  acc: 0.9247  loss:0.8303\n",
      "[ epoch:52, time:2.3052263259887695 ]  acc: 0.9256  loss:0.8295\n",
      "[ epoch:53, time:2.30546498298645 ]  acc: 0.9265  loss:0.8287\n",
      "[ epoch:54, time:2.3146860599517822 ]  acc: 0.9268  loss:0.8280\n",
      "[ epoch:55, time:2.3138020038604736 ]  acc: 0.9279  loss:0.8274\n",
      "[ epoch:56, time:2.3071250915527344 ]  acc: 0.9279  loss:0.8268\n",
      "[ epoch:57, time:2.3105762004852295 ]  acc: 0.9298  loss:0.8261\n",
      "[ epoch:58, time:2.3227641582489014 ]  acc: 0.9295  loss:0.8256\n",
      "[ epoch:59, time:2.3006479740142822 ]  acc: 0.9290  loss:0.8251\n",
      "[ epoch:60, time:2.309345006942749 ]  acc: 0.9298  loss:0.8247\n",
      "[ epoch:61, time:2.3015480041503906 ]  acc: 0.9310  loss:0.8242\n",
      "[ epoch:62, time:2.29129695892334 ]  acc: 0.9303  loss:0.8238\n",
      "[ epoch:63, time:2.320884943008423 ]  acc: 0.9316  loss:0.8234\n",
      "[ epoch:64, time:2.305176258087158 ]  acc: 0.9314  loss:0.8229\n",
      "[ epoch:65, time:2.311148166656494 ]  acc: 0.9322  loss:0.8224\n",
      "[ epoch:66, time:2.3109781742095947 ]  acc: 0.9325  loss:0.8222\n",
      "[ epoch:67, time:2.310389995574951 ]  acc: 0.9333  loss:0.8217\n",
      "[ epoch:68, time:2.316159963607788 ]  acc: 0.9320  loss:0.8214\n",
      "[ epoch:69, time:2.3159799575805664 ]  acc: 0.9332  loss:0.8209\n",
      "[ epoch:70, time:2.3280441761016846 ]  acc: 0.9335  loss:0.8206\n",
      "[ epoch:71, time:2.314356803894043 ]  acc: 0.9345  loss:0.8203\n",
      "[ epoch:72, time:2.3163650035858154 ]  acc: 0.9339  loss:0.8200\n",
      "[ epoch:73, time:2.310915231704712 ]  acc: 0.9351  loss:0.8196\n",
      "[ epoch:74, time:2.309945821762085 ]  acc: 0.9347  loss:0.8194\n",
      "[ epoch:75, time:2.3037610054016113 ]  acc: 0.9359  loss:0.8191\n",
      "[ epoch:76, time:2.499281167984009 ]  acc: 0.9352  loss:0.8188\n",
      "[ epoch:77, time:2.3871278762817383 ]  acc: 0.9360  loss:0.8184\n",
      "[ epoch:78, time:2.65867280960083 ]  acc: 0.9364  loss:0.8182\n",
      "[ epoch:79, time:2.3523662090301514 ]  acc: 0.9358  loss:0.8179\n",
      "[ epoch:80, time:2.320591688156128 ]  acc: 0.9363  loss:0.8176\n",
      "[ epoch:81, time:2.3526558876037598 ]  acc: 0.9373  loss:0.8174\n",
      "[ epoch:82, time:2.3143222332000732 ]  acc: 0.9363  loss:0.8173\n",
      "[ epoch:83, time:2.3198108673095703 ]  acc: 0.9362  loss:0.8169\n",
      "[ epoch:84, time:2.3181440830230713 ]  acc: 0.9375  loss:0.8167\n",
      "[ epoch:85, time:2.354206085205078 ]  acc: 0.9373  loss:0.8165\n",
      "[ epoch:86, time:2.3230957984924316 ]  acc: 0.9375  loss:0.8163\n",
      "[ epoch:87, time:2.308216094970703 ]  acc: 0.9375  loss:0.8160\n",
      "[ epoch:88, time:2.31532621383667 ]  acc: 0.9376  loss:0.8158\n",
      "[ epoch:89, time:2.3276422023773193 ]  acc: 0.9382  loss:0.8155\n",
      "[ epoch:90, time:2.3138539791107178 ]  acc: 0.9381  loss:0.8152\n",
      "[ epoch:91, time:2.3109540939331055 ]  acc: 0.9389  loss:0.8152\n",
      "[ epoch:92, time:2.313598871231079 ]  acc: 0.9382  loss:0.8149\n",
      "[ epoch:93, time:2.3118598461151123 ]  acc: 0.9390  loss:0.8147\n",
      "[ epoch:94, time:2.3180291652679443 ]  acc: 0.9381  loss:0.8145\n",
      "[ epoch:95, time:2.3186070919036865 ]  acc: 0.9390  loss:0.8143\n",
      "[ epoch:96, time:2.319727897644043 ]  acc: 0.9391  loss:0.8142\n",
      "[ epoch:97, time:2.3365302085876465 ]  acc: 0.9403  loss:0.8138\n",
      "[ epoch:98, time:2.3159549236297607 ]  acc: 0.9391  loss:0.8137\n",
      "[ epoch:99, time:2.307727098464966 ]  acc: 0.9401  loss:0.8136\n",
      "[ epoch:100, time:2.3383748531341553 ]  acc: 0.9398  loss:0.8134\n"
     ]
    }
   ],
   "source": [
    "model, accs, losses = train(num_epochs, 1, x_feature, y_train, optimizer, model)"
   ]
  },
  {
   "cell_type": "code",
   "execution_count": 18,
   "metadata": {},
   "outputs": [
    {
     "name": "stdout",
     "output_type": "stream",
     "text": [
      "93.72156505914468\n"
     ]
    },
    {
     "name": "stderr",
     "output_type": "stream",
     "text": [
      "/Users/taimu/yes/lib/python3.7/site-packages/ipykernel_launcher.py:7: UserWarning: Implicit dimension choice for softmax has been deprecated. Change the call to include dim=X as an argument.\n",
      "  import sys\n"
     ]
    }
   ],
   "source": [
    "print(eval(vec2sum(x_test, dim), y_test, model))"
   ]
  },
  {
   "cell_type": "code",
   "execution_count": 19,
   "metadata": {},
   "outputs": [
    {
     "name": "stderr",
     "output_type": "stream",
     "text": [
      "/Users/taimu/yes/lib/python3.7/site-packages/ipykernel_launcher.py:7: UserWarning: Implicit dimension choice for softmax has been deprecated. Change the call to include dim=X as an argument.\n",
      "  import sys\n"
     ]
    },
    {
     "name": "stdout",
     "output_type": "stream",
     "text": [
      "94.00551217271475\n"
     ]
    }
   ],
   "source": [
    "print(eval(x_feature, y_train, model))"
   ]
  },
  {
   "cell_type": "code",
   "execution_count": 20,
   "metadata": {
    "scrolled": true
   },
   "outputs": [
    {
     "name": "stdout",
     "output_type": "stream",
     "text": [
      "92.73897058823529\n"
     ]
    },
    {
     "name": "stderr",
     "output_type": "stream",
     "text": [
      "/Users/taimu/yes/lib/python3.7/site-packages/ipykernel_launcher.py:7: UserWarning: Implicit dimension choice for softmax has been deprecated. Change the call to include dim=X as an argument.\n",
      "  import sys\n"
     ]
    }
   ],
   "source": [
    "print(eval(vec2sum(x_valid, dim), y_valid, model))"
   ]
  },
  {
   "cell_type": "code",
   "execution_count": 21,
   "metadata": {},
   "outputs": [],
   "source": [
    "import matplotlib.pyplot as plt\n",
    "%matplotlib inline"
   ]
  },
  {
   "cell_type": "code",
   "execution_count": 22,
   "metadata": {},
   "outputs": [
    {
     "data": {
      "text/plain": [
       "[]"
      ]
     },
     "execution_count": 22,
     "metadata": {},
     "output_type": "execute_result"
    },
    {
     "data": {
      "image/png": "[encoded data removed]",
      "text/plain": [
       "<Figure size 432x288 with 2 Axes>"
      ]
     },
     "metadata": {
      "needs_background": "light"
     },
     "output_type": "display_data"
    }
   ],
   "source": [
    "x = np.arange(len(accs))\n",
    "fig = plt.figure()\n",
    "ax = fig.add_subplot(211)\n",
    "ax.plot(x, accs, color = 'red', linewidth = 2, label = 'accuracy')\n",
    "ax2 = fig.add_subplot(212)\n",
    "ax2.plot(x, losses, color = 'green', linewidth = 2, label = 'loss')\n",
    "ax.legend()\n",
    "ax2.legend()\n",
    "plt.plot()"
   ]
  },
  {
   "cell_type": "code",
   "execution_count": 23,
   "metadata": {},
   "outputs": [
    {
     "name": "stderr",
     "output_type": "stream",
     "text": [
      "/Users/taimu/yes/lib/python3.7/site-packages/ipykernel_launcher.py:7: UserWarning: Implicit dimension choice for softmax has been deprecated. Change the call to include dim=X as an argument.\n",
      "  import sys\n"
     ]
    },
    {
     "name": "stdout",
     "output_type": "stream",
     "text": [
      "[ epoch:1, time:1.2299458980560303 ]  acc: 0.9403  loss:0.8131\n",
      "[ epoch:2, time:1.2168068885803223 ]  acc: 0.9398  loss:0.8130\n",
      "[ epoch:3, time:1.2212750911712646 ]  acc: 0.9403  loss:0.8129\n",
      "[ epoch:4, time:1.2183418273925781 ]  acc: 0.9401  loss:0.8128\n",
      "[ epoch:5, time:1.2208530902862549 ]  acc: 0.9405  loss:0.8128\n",
      "[ epoch:6, time:1.2097220420837402 ]  acc: 0.9406  loss:0.8127\n",
      "[ epoch:7, time:1.2130041122436523 ]  acc: 0.9403  loss:0.8126\n",
      "[ epoch:8, time:1.2185940742492676 ]  acc: 0.9413  loss:0.8125\n",
      "[ epoch:9, time:1.2233190536499023 ]  acc: 0.9410  loss:0.8125\n",
      "[ epoch:10, time:1.2464919090270996 ]  acc: 0.9406  loss:0.8124\n",
      "[ epoch:11, time:1.2311592102050781 ]  acc: 0.9412  loss:0.8123\n",
      "[ epoch:12, time:1.2162859439849854 ]  acc: 0.9414  loss:0.8122\n",
      "[ epoch:13, time:1.230281114578247 ]  acc: 0.9417  loss:0.8121\n",
      "[ epoch:14, time:1.2297370433807373 ]  acc: 0.9417  loss:0.8120\n",
      "[ epoch:15, time:1.2217228412628174 ]  acc: 0.9420  loss:0.8120\n",
      "[ epoch:16, time:1.229909896850586 ]  acc: 0.9412  loss:0.8119\n",
      "[ epoch:17, time:1.2277719974517822 ]  acc: 0.9427  loss:0.8118\n",
      "[ epoch:18, time:1.2299270629882812 ]  acc: 0.9410  loss:0.8117\n",
      "[ epoch:19, time:1.2184720039367676 ]  acc: 0.9424  loss:0.8117\n",
      "[ epoch:20, time:1.2373731136322021 ]  acc: 0.9420  loss:0.8116\n",
      "[ epoch:21, time:1.216177225112915 ]  acc: 0.9424  loss:0.8115\n",
      "[ epoch:22, time:1.2130680084228516 ]  acc: 0.9427  loss:0.8114\n",
      "[ epoch:23, time:1.2212920188903809 ]  acc: 0.9424  loss:0.8114\n",
      "[ epoch:24, time:1.2191581726074219 ]  acc: 0.9422  loss:0.8113\n",
      "[ epoch:25, time:1.2153589725494385 ]  acc: 0.9424  loss:0.8112\n",
      "[ epoch:26, time:1.2343599796295166 ]  acc: 0.9426  loss:0.8112\n",
      "[ epoch:27, time:1.221086025238037 ]  acc: 0.9433  loss:0.8111\n",
      "[ epoch:28, time:1.2286860942840576 ]  acc: 0.9430  loss:0.8110\n",
      "[ epoch:29, time:1.2174651622772217 ]  acc: 0.9428  loss:0.8110\n",
      "[ epoch:30, time:1.2226719856262207 ]  acc: 0.9433  loss:0.8109\n",
      "[ epoch:31, time:1.2147729396820068 ]  acc: 0.9427  loss:0.8108\n",
      "[ epoch:32, time:1.215979814529419 ]  acc: 0.9433  loss:0.8107\n",
      "[ epoch:33, time:1.2244558334350586 ]  acc: 0.9426  loss:0.8107\n",
      "[ epoch:34, time:1.2301411628723145 ]  acc: 0.9426  loss:0.8106\n",
      "[ epoch:35, time:1.2502899169921875 ]  acc: 0.9430  loss:0.8106\n",
      "[ epoch:36, time:1.2459862232208252 ]  acc: 0.9428  loss:0.8105\n",
      "[ epoch:37, time:1.2188498973846436 ]  acc: 0.9434  loss:0.8105\n",
      "[ epoch:38, time:1.231799840927124 ]  acc: 0.9428  loss:0.8104\n",
      "[ epoch:39, time:1.2233607769012451 ]  acc: 0.9436  loss:0.8103\n",
      "[ epoch:40, time:1.2245399951934814 ]  acc: 0.9427  loss:0.8102\n",
      "[ epoch:41, time:1.2153890132904053 ]  acc: 0.9438  loss:0.8102\n",
      "[ epoch:42, time:1.2098817825317383 ]  acc: 0.9434  loss:0.8102\n",
      "[ epoch:43, time:1.2386293411254883 ]  acc: 0.9429  loss:0.8101\n",
      "[ epoch:44, time:1.2149839401245117 ]  acc: 0.9435  loss:0.8100\n",
      "[ epoch:45, time:1.2613348960876465 ]  acc: 0.9440  loss:0.8099\n",
      "[ epoch:46, time:1.2625269889831543 ]  acc: 0.9433  loss:0.8099\n",
      "[ epoch:47, time:1.2298610210418701 ]  acc: 0.9435  loss:0.8098\n",
      "[ epoch:48, time:1.2115702629089355 ]  acc: 0.9440  loss:0.8098\n",
      "[ epoch:49, time:1.2239022254943848 ]  acc: 0.9438  loss:0.8097\n",
      "[ epoch:50, time:1.2555580139160156 ]  acc: 0.9437  loss:0.8096\n",
      "[ epoch:51, time:1.3231537342071533 ]  acc: 0.9436  loss:0.8096\n",
      "[ epoch:52, time:1.3266167640686035 ]  acc: 0.9435  loss:0.8095\n",
      "[ epoch:53, time:1.2960660457611084 ]  acc: 0.9436  loss:0.8095\n",
      "[ epoch:54, time:1.2931368350982666 ]  acc: 0.9437  loss:0.8094\n",
      "[ epoch:55, time:1.726478099822998 ]  acc: 0.9440  loss:0.8093\n",
      "[ epoch:56, time:1.6441659927368164 ]  acc: 0.9444  loss:0.8093\n",
      "[ epoch:57, time:1.5699598789215088 ]  acc: 0.9441  loss:0.8093\n",
      "[ epoch:58, time:1.3271398544311523 ]  acc: 0.9443  loss:0.8092\n",
      "[ epoch:59, time:1.2809889316558838 ]  acc: 0.9443  loss:0.8091\n",
      "[ epoch:60, time:1.3284502029418945 ]  acc: 0.9445  loss:0.8091\n",
      "[ epoch:61, time:1.3724658489227295 ]  acc: 0.9443  loss:0.8090\n",
      "[ epoch:62, time:1.3257920742034912 ]  acc: 0.9449  loss:0.8089\n",
      "[ epoch:63, time:1.3328211307525635 ]  acc: 0.9445  loss:0.8089\n",
      "[ epoch:64, time:1.249758005142212 ]  acc: 0.9450  loss:0.8089\n",
      "[ epoch:65, time:1.3087868690490723 ]  acc: 0.9443  loss:0.8088\n",
      "[ epoch:66, time:1.769752025604248 ]  acc: 0.9441  loss:0.8088\n",
      "[ epoch:67, time:1.580387830734253 ]  acc: 0.9444  loss:0.8087\n",
      "[ epoch:68, time:1.2931551933288574 ]  acc: 0.9448  loss:0.8086\n",
      "[ epoch:69, time:1.2760508060455322 ]  acc: 0.9445  loss:0.8086\n",
      "[ epoch:70, time:1.3392181396484375 ]  acc: 0.9451  loss:0.8086\n",
      "[ epoch:71, time:1.3738629817962646 ]  acc: 0.9456  loss:0.8084\n",
      "[ epoch:72, time:1.3176660537719727 ]  acc: 0.9453  loss:0.8085\n",
      "[ epoch:73, time:1.293572187423706 ]  acc: 0.9449  loss:0.8084\n",
      "[ epoch:74, time:1.2988049983978271 ]  acc: 0.9449  loss:0.8084\n",
      "[ epoch:75, time:1.2932908535003662 ]  acc: 0.9455  loss:0.8083\n",
      "[ epoch:76, time:1.3522529602050781 ]  acc: 0.9445  loss:0.8082\n",
      "[ epoch:77, time:1.2758848667144775 ]  acc: 0.9452  loss:0.8082\n",
      "[ epoch:78, time:1.2647979259490967 ]  acc: 0.9455  loss:0.8081\n",
      "[ epoch:79, time:1.4718217849731445 ]  acc: 0.9452  loss:0.8081\n",
      "[ epoch:80, time:1.6231229305267334 ]  acc: 0.9456  loss:0.8080\n",
      "[ epoch:81, time:1.3532459735870361 ]  acc: 0.9450  loss:0.8080\n",
      "[ epoch:82, time:1.4030320644378662 ]  acc: 0.9450  loss:0.8079\n",
      "[ epoch:83, time:1.297299861907959 ]  acc: 0.9451  loss:0.8078\n",
      "[ epoch:84, time:1.329392910003662 ]  acc: 0.9458  loss:0.8078\n",
      "[ epoch:85, time:1.3236310482025146 ]  acc: 0.9459  loss:0.8078\n",
      "[ epoch:86, time:1.3259389400482178 ]  acc: 0.9460  loss:0.8077\n",
      "[ epoch:87, time:1.333629846572876 ]  acc: 0.9458  loss:0.8077\n",
      "[ epoch:88, time:1.2792890071868896 ]  acc: 0.9461  loss:0.8077\n",
      "[ epoch:89, time:1.2651646137237549 ]  acc: 0.9459  loss:0.8076\n",
      "[ epoch:90, time:1.3254940509796143 ]  acc: 0.9452  loss:0.8076\n",
      "[ epoch:91, time:1.3091208934783936 ]  acc: 0.9457  loss:0.8075\n",
      "[ epoch:92, time:1.3298048973083496 ]  acc: 0.9459  loss:0.8075\n",
      "[ epoch:93, time:1.3319499492645264 ]  acc: 0.9457  loss:0.8074\n",
      "[ epoch:94, time:1.2578282356262207 ]  acc: 0.9465  loss:0.8074\n",
      "[ epoch:95, time:1.322295904159546 ]  acc: 0.9461  loss:0.8073\n",
      "[ epoch:96, time:1.3940749168395996 ]  acc: 0.9464  loss:0.8073\n",
      "[ epoch:97, time:1.3315460681915283 ]  acc: 0.9464  loss:0.8073\n",
      "[ epoch:98, time:1.3323860168457031 ]  acc: 0.9465  loss:0.8072\n",
      "[ epoch:99, time:1.3647172451019287 ]  acc: 0.9468  loss:0.8072\n",
      "[ epoch:100, time:1.3490030765533447 ]  acc: 0.9465  loss:0.8071\n"
     ]
    }
   ],
   "source": [
    "model, accs, losses = train(num_epochs, 2, x_feature, y_train, optimizer, model)"
   ]
  },
  {
   "cell_type": "code",
   "execution_count": 24,
   "metadata": {},
   "outputs": [
    {
     "name": "stderr",
     "output_type": "stream",
     "text": [
      "/Users/taimu/yes/lib/python3.7/site-packages/ipykernel_launcher.py:7: UserWarning: Implicit dimension choice for softmax has been deprecated. Change the call to include dim=X as an argument.\n",
      "  import sys\n"
     ]
    },
    {
     "name": "stdout",
     "output_type": "stream",
     "text": [
      "[ epoch:1, time:0.7223527431488037 ]  acc: 0.9467  loss:0.8070\n",
      "[ epoch:2, time:0.7348952293395996 ]  acc: 0.9468  loss:0.8070\n",
      "[ epoch:3, time:0.7094190120697021 ]  acc: 0.9467  loss:0.8070\n",
      "[ epoch:4, time:0.7223870754241943 ]  acc: 0.9468  loss:0.8069\n",
      "[ epoch:5, time:0.7000508308410645 ]  acc: 0.9471  loss:0.8069\n",
      "[ epoch:6, time:0.7212178707122803 ]  acc: 0.9471  loss:0.8069\n",
      "[ epoch:7, time:0.6981651782989502 ]  acc: 0.9471  loss:0.8069\n",
      "[ epoch:8, time:0.6987061500549316 ]  acc: 0.9471  loss:0.8068\n",
      "[ epoch:9, time:0.7117719650268555 ]  acc: 0.9467  loss:0.8068\n",
      "[ epoch:10, time:0.6960241794586182 ]  acc: 0.9469  loss:0.8068\n",
      "[ epoch:11, time:0.6966609954833984 ]  acc: 0.9467  loss:0.8068\n",
      "[ epoch:12, time:0.664086103439331 ]  acc: 0.9472  loss:0.8067\n",
      "[ epoch:13, time:0.6468842029571533 ]  acc: 0.9468  loss:0.8067\n",
      "[ epoch:14, time:0.69569993019104 ]  acc: 0.9476  loss:0.8067\n",
      "[ epoch:15, time:0.6935529708862305 ]  acc: 0.9472  loss:0.8067\n",
      "[ epoch:16, time:0.6890969276428223 ]  acc: 0.9473  loss:0.8067\n",
      "[ epoch:17, time:0.6854820251464844 ]  acc: 0.9474  loss:0.8067\n",
      "[ epoch:18, time:0.6922948360443115 ]  acc: 0.9472  loss:0.8066\n",
      "[ epoch:19, time:0.695976972579956 ]  acc: 0.9471  loss:0.8066\n",
      "[ epoch:20, time:0.6969177722930908 ]  acc: 0.9471  loss:0.8066\n",
      "[ epoch:21, time:0.7005400657653809 ]  acc: 0.9471  loss:0.8066\n",
      "[ epoch:22, time:0.6949348449707031 ]  acc: 0.9472  loss:0.8066\n",
      "[ epoch:23, time:0.6904008388519287 ]  acc: 0.9472  loss:0.8065\n",
      "[ epoch:24, time:0.697080135345459 ]  acc: 0.9471  loss:0.8065\n",
      "[ epoch:25, time:0.6927478313446045 ]  acc: 0.9473  loss:0.8065\n",
      "[ epoch:26, time:0.6647989749908447 ]  acc: 0.9472  loss:0.8065\n",
      "[ epoch:27, time:0.6714639663696289 ]  acc: 0.9473  loss:0.8065\n",
      "[ epoch:28, time:0.6449868679046631 ]  acc: 0.9475  loss:0.8064\n",
      "[ epoch:29, time:0.6545608043670654 ]  acc: 0.9474  loss:0.8064\n",
      "[ epoch:30, time:0.706439733505249 ]  acc: 0.9473  loss:0.8064\n",
      "[ epoch:31, time:0.6841049194335938 ]  acc: 0.9475  loss:0.8064\n",
      "[ epoch:32, time:0.7010390758514404 ]  acc: 0.9471  loss:0.8064\n",
      "[ epoch:33, time:0.6912398338317871 ]  acc: 0.9473  loss:0.8063\n",
      "[ epoch:34, time:0.6951019763946533 ]  acc: 0.9472  loss:0.8063\n",
      "[ epoch:35, time:0.6574578285217285 ]  acc: 0.9472  loss:0.8063\n",
      "[ epoch:36, time:0.6442489624023438 ]  acc: 0.9476  loss:0.8063\n",
      "[ epoch:37, time:0.6468939781188965 ]  acc: 0.9472  loss:0.8062\n",
      "[ epoch:38, time:0.6452517509460449 ]  acc: 0.9476  loss:0.8062\n",
      "[ epoch:39, time:0.6478991508483887 ]  acc: 0.9473  loss:0.8062\n",
      "[ epoch:40, time:0.6500780582427979 ]  acc: 0.9476  loss:0.8062\n",
      "[ epoch:41, time:0.648582935333252 ]  acc: 0.9476  loss:0.8062\n",
      "[ epoch:42, time:0.657742977142334 ]  acc: 0.9473  loss:0.8061\n",
      "[ epoch:43, time:0.6525156497955322 ]  acc: 0.9475  loss:0.8061\n",
      "[ epoch:44, time:0.6611850261688232 ]  acc: 0.9475  loss:0.8061\n",
      "[ epoch:45, time:0.6533689498901367 ]  acc: 0.9473  loss:0.8061\n",
      "[ epoch:46, time:0.6554141044616699 ]  acc: 0.9474  loss:0.8061\n",
      "[ epoch:47, time:0.6530330181121826 ]  acc: 0.9474  loss:0.8061\n",
      "[ epoch:48, time:0.6523430347442627 ]  acc: 0.9476  loss:0.8060\n",
      "[ epoch:49, time:0.6500389575958252 ]  acc: 0.9473  loss:0.8060\n",
      "[ epoch:50, time:0.6512987613677979 ]  acc: 0.9475  loss:0.8060\n",
      "[ epoch:51, time:0.6693830490112305 ]  acc: 0.9477  loss:0.8060\n",
      "[ epoch:52, time:0.6586530208587646 ]  acc: 0.9476  loss:0.8060\n",
      "[ epoch:53, time:0.6543099880218506 ]  acc: 0.9472  loss:0.8059\n",
      "[ epoch:54, time:0.6539871692657471 ]  acc: 0.9475  loss:0.8059\n",
      "[ epoch:55, time:0.64886474609375 ]  acc: 0.9475  loss:0.8059\n",
      "[ epoch:56, time:0.6487088203430176 ]  acc: 0.9473  loss:0.8059\n",
      "[ epoch:57, time:0.6547341346740723 ]  acc: 0.9475  loss:0.8058\n",
      "[ epoch:58, time:0.6430621147155762 ]  acc: 0.9475  loss:0.8059\n",
      "[ epoch:59, time:0.6810030937194824 ]  acc: 0.9480  loss:0.8058\n",
      "[ epoch:60, time:0.6808798313140869 ]  acc: 0.9475  loss:0.8058\n",
      "[ epoch:61, time:0.7020950317382812 ]  acc: 0.9474  loss:0.8058\n",
      "[ epoch:62, time:0.7055537700653076 ]  acc: 0.9477  loss:0.8058\n",
      "[ epoch:63, time:0.6820931434631348 ]  acc: 0.9475  loss:0.8057\n",
      "[ epoch:64, time:0.657599925994873 ]  acc: 0.9474  loss:0.8057\n",
      "[ epoch:65, time:0.6494300365447998 ]  acc: 0.9476  loss:0.8057\n",
      "[ epoch:66, time:0.6519269943237305 ]  acc: 0.9477  loss:0.8057\n",
      "[ epoch:67, time:0.6480090618133545 ]  acc: 0.9477  loss:0.8057\n",
      "[ epoch:68, time:0.6533219814300537 ]  acc: 0.9476  loss:0.8057\n",
      "[ epoch:69, time:0.6502118110656738 ]  acc: 0.9479  loss:0.8056\n",
      "[ epoch:70, time:0.6529531478881836 ]  acc: 0.9476  loss:0.8056\n",
      "[ epoch:71, time:0.6477839946746826 ]  acc: 0.9477  loss:0.8056\n",
      "[ epoch:72, time:0.6470441818237305 ]  acc: 0.9477  loss:0.8056\n",
      "[ epoch:73, time:0.6484229564666748 ]  acc: 0.9479  loss:0.8055\n",
      "[ epoch:74, time:0.6470780372619629 ]  acc: 0.9476  loss:0.8056\n",
      "[ epoch:75, time:0.6466028690338135 ]  acc: 0.9477  loss:0.8055\n",
      "[ epoch:76, time:0.6563830375671387 ]  acc: 0.9477  loss:0.8055\n",
      "[ epoch:77, time:0.6465306282043457 ]  acc: 0.9477  loss:0.8055\n",
      "[ epoch:78, time:0.6473829746246338 ]  acc: 0.9480  loss:0.8055\n",
      "[ epoch:79, time:0.6382462978363037 ]  acc: 0.9476  loss:0.8054\n",
      "[ epoch:80, time:0.6472568511962891 ]  acc: 0.9477  loss:0.8054\n",
      "[ epoch:81, time:0.638779878616333 ]  acc: 0.9475  loss:0.8054\n",
      "[ epoch:82, time:0.6443760395050049 ]  acc: 0.9479  loss:0.8054\n",
      "[ epoch:83, time:0.6555910110473633 ]  acc: 0.9480  loss:0.8054\n",
      "[ epoch:84, time:0.6491708755493164 ]  acc: 0.9476  loss:0.8054\n",
      "[ epoch:85, time:0.6518778800964355 ]  acc: 0.9477  loss:0.8053\n",
      "[ epoch:86, time:0.6514639854431152 ]  acc: 0.9480  loss:0.8053\n",
      "[ epoch:87, time:0.6435420513153076 ]  acc: 0.9480  loss:0.8053\n",
      "[ epoch:88, time:0.6535232067108154 ]  acc: 0.9481  loss:0.8053\n",
      "[ epoch:89, time:0.6473510265350342 ]  acc: 0.9481  loss:0.8053\n",
      "[ epoch:90, time:0.646665096282959 ]  acc: 0.9481  loss:0.8053\n",
      "[ epoch:91, time:0.6509389877319336 ]  acc: 0.9481  loss:0.8052\n",
      "[ epoch:92, time:0.6459259986877441 ]  acc: 0.9474  loss:0.8052\n",
      "[ epoch:93, time:0.6471641063690186 ]  acc: 0.9483  loss:0.8052\n",
      "[ epoch:94, time:0.6510210037231445 ]  acc: 0.9482  loss:0.8052\n",
      "[ epoch:95, time:0.6533119678497314 ]  acc: 0.9484  loss:0.8052\n",
      "[ epoch:96, time:0.6496648788452148 ]  acc: 0.9482  loss:0.8051\n",
      "[ epoch:97, time:0.6432693004608154 ]  acc: 0.9479  loss:0.8051\n",
      "[ epoch:98, time:0.6454219818115234 ]  acc: 0.9481  loss:0.8051\n",
      "[ epoch:99, time:0.642510175704956 ]  acc: 0.9479  loss:0.8051\n",
      "[ epoch:100, time:0.646359920501709 ]  acc: 0.9479  loss:0.8051\n"
     ]
    }
   ],
   "source": [
    "model, accs, losses = train(num_epochs, 4, x_feature, y_train, optimizer, model)"
   ]
  },
  {
   "cell_type": "code",
   "execution_count": 25,
   "metadata": {},
   "outputs": [],
   "source": [
    "class MyNet2(nn.Module):\n",
    "    def __init__(self, input_size, h_size, output_size):\n",
    "        super(MyNet2, self).__init__()\n",
    "        self.fc1 = torch.nn.Linear(input_size, h_size)\n",
    "        self.fc2 = torch.nn.Linear(h_size, output_size)\n",
    "        \n",
    "    def forward(self, x):\n",
    "        x = self.fc1(x)\n",
    "        x = func.relu(x)\n",
    "        x = self.fc2(x)\n",
    "        x = func.softmax(x)\n",
    "        \n",
    "        return x"
   ]
  },
  {
   "cell_type": "code",
   "execution_count": 26,
   "metadata": {},
   "outputs": [],
   "source": [
    "model = MyNet2(dim, 100, 4)\n",
    "optimizer = optim.SGD(model.parameters(), lr = 0.01, momentum = 0.9)\n",
    "num_epochs = 100\n",
    "save_path = '../data/params.tar'"
   ]
  },
  {
   "cell_type": "code",
   "execution_count": 27,
   "metadata": {},
   "outputs": [
    {
     "name": "stderr",
     "output_type": "stream",
     "text": [
      "/Users/taimu/yes/lib/python3.7/site-packages/ipykernel_launcher.py:11: UserWarning: Implicit dimension choice for softmax has been deprecated. Change the call to include dim=X as an argument.\n",
      "  # This is added back by InteractiveShellApp.init_path()\n"
     ]
    },
    {
     "name": "stdout",
     "output_type": "stream",
     "text": [
      "[ epoch:1, time:1.9604780673980713 ]  acc: 0.7980  loss:0.9566\n",
      "[ epoch:2, time:1.9771151542663574 ]  acc: 0.8275  loss:0.9162\n",
      "[ epoch:3, time:1.977762222290039 ]  acc: 0.8302  loss:0.9133\n",
      "[ epoch:4, time:1.9852077960968018 ]  acc: 0.8315  loss:0.9117\n",
      "[ epoch:5, time:1.9634521007537842 ]  acc: 0.8329  loss:0.9102\n",
      "[ epoch:6, time:1.950193166732788 ]  acc: 0.8334  loss:0.9081\n",
      "[ epoch:7, time:1.9881999492645264 ]  acc: 0.8423  loss:0.8988\n",
      "[ epoch:8, time:1.9931762218475342 ]  acc: 0.8706  loss:0.8739\n",
      "[ epoch:9, time:1.972059726715088 ]  acc: 0.8817  loss:0.8624\n",
      "[ epoch:10, time:2.067525863647461 ]  acc: 0.9057  loss:0.8441\n",
      "[ epoch:11, time:1.9598169326782227 ]  acc: 0.9229  loss:0.8267\n",
      "[ epoch:12, time:1.9589958190917969 ]  acc: 0.9262  loss:0.8206\n",
      "[ epoch:13, time:1.940685749053955 ]  acc: 0.9274  loss:0.8177\n",
      "[ epoch:14, time:1.9604358673095703 ]  acc: 0.9328  loss:0.8139\n",
      "[ epoch:15, time:1.970794916152954 ]  acc: 0.9356  loss:0.8119\n",
      "[ epoch:16, time:1.9566781520843506 ]  acc: 0.9370  loss:0.8097\n",
      "[ epoch:17, time:1.9802191257476807 ]  acc: 0.9388  loss:0.8079\n",
      "[ epoch:18, time:1.975951910018921 ]  acc: 0.9409  loss:0.8057\n",
      "[ epoch:19, time:1.9887659549713135 ]  acc: 0.9404  loss:0.8054\n",
      "[ epoch:20, time:1.9831209182739258 ]  acc: 0.9428  loss:0.8038\n",
      "[ epoch:21, time:1.9556999206542969 ]  acc: 0.9429  loss:0.8031\n",
      "[ epoch:22, time:1.9643220901489258 ]  acc: 0.9443  loss:0.8023\n",
      "[ epoch:23, time:1.9957759380340576 ]  acc: 0.9437  loss:0.8022\n",
      "[ epoch:24, time:1.9321320056915283 ]  acc: 0.9457  loss:0.8004\n",
      "[ epoch:25, time:1.9713997840881348 ]  acc: 0.9468  loss:0.7997\n",
      "[ epoch:26, time:2.0037660598754883 ]  acc: 0.9471  loss:0.7988\n",
      "[ epoch:27, time:2.0370140075683594 ]  acc: 0.9469  loss:0.7992\n",
      "[ epoch:28, time:2.0430891513824463 ]  acc: 0.9469  loss:0.7982\n",
      "[ epoch:29, time:2.0206680297851562 ]  acc: 0.9486  loss:0.7971\n",
      "[ epoch:30, time:2.0545809268951416 ]  acc: 0.9474  loss:0.7974\n",
      "[ epoch:31, time:2.0346860885620117 ]  acc: 0.9505  loss:0.7954\n",
      "[ epoch:32, time:2.067831039428711 ]  acc: 0.9511  loss:0.7951\n",
      "[ epoch:33, time:2.0045859813690186 ]  acc: 0.9513  loss:0.7949\n",
      "[ epoch:34, time:2.007248878479004 ]  acc: 0.9527  loss:0.7936\n",
      "[ epoch:35, time:2.0440080165863037 ]  acc: 0.9518  loss:0.7937\n",
      "[ epoch:36, time:1.97432279586792 ]  acc: 0.9536  loss:0.7928\n",
      "[ epoch:37, time:1.997805118560791 ]  acc: 0.9529  loss:0.7927\n",
      "[ epoch:38, time:1.9778199195861816 ]  acc: 0.9535  loss:0.7923\n",
      "[ epoch:39, time:2.0337371826171875 ]  acc: 0.9542  loss:0.7916\n",
      "[ epoch:40, time:2.015695810317993 ]  acc: 0.9556  loss:0.7906\n",
      "[ epoch:41, time:1.9960839748382568 ]  acc: 0.9564  loss:0.7901\n",
      "[ epoch:42, time:2.0470752716064453 ]  acc: 0.9556  loss:0.7900\n",
      "[ epoch:43, time:2.0613927841186523 ]  acc: 0.9565  loss:0.7893\n",
      "[ epoch:44, time:2.0025651454925537 ]  acc: 0.9568  loss:0.7897\n",
      "[ epoch:45, time:2.160844087600708 ]  acc: 0.9574  loss:0.7888\n",
      "[ epoch:46, time:1.9525470733642578 ]  acc: 0.9567  loss:0.7889\n",
      "[ epoch:47, time:2.0448782444000244 ]  acc: 0.9573  loss:0.7885\n",
      "[ epoch:48, time:1.967756986618042 ]  acc: 0.9576  loss:0.7879\n",
      "[ epoch:49, time:2.0139920711517334 ]  acc: 0.9588  loss:0.7872\n",
      "[ epoch:50, time:2.095806837081909 ]  acc: 0.9581  loss:0.7878\n",
      "[ epoch:51, time:1.9860572814941406 ]  acc: 0.9593  loss:0.7866\n",
      "[ epoch:52, time:1.9864652156829834 ]  acc: 0.9593  loss:0.7861\n",
      "[ epoch:53, time:1.9945778846740723 ]  acc: 0.9604  loss:0.7856\n",
      "[ epoch:54, time:1.9730761051177979 ]  acc: 0.9613  loss:0.7849\n",
      "[ epoch:55, time:2.000502109527588 ]  acc: 0.9605  loss:0.7852\n",
      "[ epoch:56, time:1.9457688331604004 ]  acc: 0.9615  loss:0.7844\n",
      "[ epoch:57, time:1.9555208683013916 ]  acc: 0.9613  loss:0.7844\n",
      "[ epoch:58, time:2.0227339267730713 ]  acc: 0.9610  loss:0.7846\n",
      "[ epoch:59, time:1.9652280807495117 ]  acc: 0.9622  loss:0.7837\n",
      "[ epoch:60, time:1.9655170440673828 ]  acc: 0.9615  loss:0.7841\n",
      "[ epoch:61, time:1.9730198383331299 ]  acc: 0.9622  loss:0.7833\n",
      "[ epoch:62, time:1.9857630729675293 ]  acc: 0.9628  loss:0.7831\n",
      "[ epoch:63, time:1.9799132347106934 ]  acc: 0.9626  loss:0.7833\n",
      "[ epoch:64, time:1.970167875289917 ]  acc: 0.9626  loss:0.7826\n",
      "[ epoch:65, time:1.9523890018463135 ]  acc: 0.9622  loss:0.7830\n",
      "[ epoch:66, time:2.022843837738037 ]  acc: 0.9628  loss:0.7825\n",
      "[ epoch:67, time:1.9570951461791992 ]  acc: 0.9627  loss:0.7825\n",
      "[ epoch:68, time:2.01216197013855 ]  acc: 0.9628  loss:0.7823\n",
      "[ epoch:69, time:1.9804468154907227 ]  acc: 0.9626  loss:0.7821\n",
      "[ epoch:70, time:1.9701004028320312 ]  acc: 0.9634  loss:0.7818\n",
      "[ epoch:71, time:1.9670121669769287 ]  acc: 0.9633  loss:0.7815\n",
      "[ epoch:72, time:1.9900977611541748 ]  acc: 0.9633  loss:0.7817\n",
      "[ epoch:73, time:2.039212942123413 ]  acc: 0.9636  loss:0.7814\n",
      "[ epoch:74, time:2.015615940093994 ]  acc: 0.9636  loss:0.7813\n",
      "[ epoch:75, time:2.0323591232299805 ]  acc: 0.9637  loss:0.7811\n",
      "[ epoch:76, time:2.0143039226531982 ]  acc: 0.9635  loss:0.7813\n",
      "[ epoch:77, time:1.9686520099639893 ]  acc: 0.9636  loss:0.7810\n",
      "[ epoch:78, time:1.957068920135498 ]  acc: 0.9634  loss:0.7812\n",
      "[ epoch:79, time:2.000148057937622 ]  acc: 0.9637  loss:0.7808\n",
      "[ epoch:80, time:2.0012199878692627 ]  acc: 0.9637  loss:0.7810\n",
      "[ epoch:81, time:2.0539729595184326 ]  acc: 0.9637  loss:0.7809\n",
      "[ epoch:82, time:1.9803850650787354 ]  acc: 0.9635  loss:0.7808\n",
      "[ epoch:83, time:2.0610899925231934 ]  acc: 0.9636  loss:0.7809\n",
      "[ epoch:84, time:2.041614055633545 ]  acc: 0.9639  loss:0.7805\n",
      "[ epoch:85, time:2.0158040523529053 ]  acc: 0.9638  loss:0.7806\n",
      "[ epoch:86, time:2.0438857078552246 ]  acc: 0.9638  loss:0.7808\n",
      "[ epoch:87, time:2.0223119258880615 ]  acc: 0.9639  loss:0.7804\n",
      "[ epoch:88, time:2.0613110065460205 ]  acc: 0.9639  loss:0.7804\n",
      "[ epoch:89, time:1.9792120456695557 ]  acc: 0.9639  loss:0.7803\n",
      "[ epoch:90, time:1.9768130779266357 ]  acc: 0.9638  loss:0.7804\n",
      "[ epoch:91, time:1.9595682621002197 ]  acc: 0.9641  loss:0.7802\n",
      "[ epoch:92, time:1.9911839962005615 ]  acc: 0.9641  loss:0.7802\n",
      "[ epoch:93, time:1.9840712547302246 ]  acc: 0.9641  loss:0.7801\n",
      "[ epoch:94, time:1.970968246459961 ]  acc: 0.9641  loss:0.7802\n",
      "[ epoch:95, time:1.9921720027923584 ]  acc: 0.9641  loss:0.7802\n",
      "[ epoch:96, time:1.9960808753967285 ]  acc: 0.9641  loss:0.7802\n",
      "[ epoch:97, time:2.0746679306030273 ]  acc: 0.9639  loss:0.7801\n",
      "[ epoch:98, time:1.9917309284210205 ]  acc: 0.9641  loss:0.7801\n",
      "[ epoch:99, time:2.0418519973754883 ]  acc: 0.9639  loss:0.7802\n",
      "[ epoch:100, time:2.0482211112976074 ]  acc: 0.9638  loss:0.7803\n"
     ]
    }
   ],
   "source": [
    "model, accs2, losses2 = train(num_epochs, 2, x_feature, y_train, optimizer, model)"
   ]
  },
  {
   "cell_type": "code",
   "execution_count": 28,
   "metadata": {},
   "outputs": [
    {
     "name": "stdout",
     "output_type": "stream",
     "text": [
      "92.37132352941177\n"
     ]
    },
    {
     "name": "stderr",
     "output_type": "stream",
     "text": [
      "/Users/taimu/yes/lib/python3.7/site-packages/ipykernel_launcher.py:11: UserWarning: Implicit dimension choice for softmax has been deprecated. Change the call to include dim=X as an argument.\n",
      "  # This is added back by InteractiveShellApp.init_path()\n"
     ]
    }
   ],
   "source": [
    "print(eval(vec2sum(x_valid, dim), y_valid, model))"
   ]
  },
  {
   "cell_type": "code",
   "execution_count": 29,
   "metadata": {},
   "outputs": [
    {
     "data": {
      "text/plain": [
       "[]"
      ]
     },
     "execution_count": 29,
     "metadata": {},
     "output_type": "execute_result"
    },
    {
     "data": {
      "image/png": "[encoded data removed]",
      "text/plain": [
       "<Figure size 432x288 with 2 Axes>"
      ]
     },
     "metadata": {
      "needs_background": "light"
     },
     "output_type": "display_data"
    }
   ],
   "source": [
    "x = np.arange(len(accs2))\n",
    "fig = plt.figure()\n",
    "ax = fig.add_subplot(211)\n",
    "ax.plot(x, accs2, color = 'red', linewidth = 2, label = 'accuracy')\n",
    "ax2 = fig.add_subplot(212)\n",
    "ax2.plot(x, losses2, color = 'green', linewidth = 2, label = 'loss')\n",
    "ax.legend()\n",
    "ax2.legend()\n",
    "plt.plot()"
   ]
  }
 ],
 "metadata": {
  "kernelspec": {
   "display_name": "Python 3",
   "language": "python",
   "name": "python3"
  },
  "language_info": {
   "codemirror_mode": {
    "name": "ipython",
    "version": 3
   },
   "file_extension": ".py",
   "mimetype": "text/x-python",
   "name": "python",
   "nbconvert_exporter": "python",
   "pygments_lexer": "ipython3",
   "version": "3.7.3"
  }
 },
 "nbformat": 4,
 "nbformat_minor": 2
}
