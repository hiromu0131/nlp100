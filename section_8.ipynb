{
 "cells": [
  {
   "cell_type": "code",
   "execution_count": 1,
   "metadata": {},
   "outputs": [],
   "source": [
    "import numpy as np\n",
    "import re"
   ]
  },
  {
   "cell_type": "code",
   "execution_count": 2,
   "metadata": {},
   "outputs": [],
   "source": [
    "# ロードしたデータを訓練データ用のStringと正解ラベルに分ける\n",
    "def split_vector(data):\n",
    "    dic = {'b':0, 't':1, 'e':2, 'm':3}\n",
    "    y = np.zeros(len(data) - 1)\n",
    "    x = []\n",
    "    for i, d in enumerate(data):\n",
    "        if i == len(data) - 1:\n",
    "            break\n",
    "        y[i] = dic[d[0]]\n",
    "        x.append(d[1])\n",
    "    \n",
    "    return (x, y.astype(np.uint8))"
   ]
  },
  {
   "cell_type": "code",
   "execution_count": 3,
   "metadata": {},
   "outputs": [
    {
     "name": "stdout",
     "output_type": "stream",
     "text": [
      "8708 (8708,)\n",
      "1089 (1089,)\n",
      "1088 (1088,)\n"
     ]
    }
   ],
   "source": [
    "# 70\n",
    "file_path = 'data/NewsAggregatorDataset/'\n",
    "\n",
    "with open(file_path + 'train.txt') as f:\n",
    "    train_data = f.read().split('\\n')\n",
    "x_train, y_train = split_vector([d.split('\\t') for d in train_data])\n",
    "print(len(x_train), y_train.shape)\n",
    "\n",
    "with open(file_path + 'test.txt') as f:\n",
    "    test_data = f.read().split('\\n')\n",
    "x_test, y_test = split_vector([d.split('\\t') for d in test_data])\n",
    "print(len(x_test), y_test.shape)\n",
    "\n",
    "with open(file_path + 'valid.txt') as f:\n",
    "    valid_data = f.read().split('\\n')\n",
    "x_valid, y_valid = split_vector([d.split('\\t') for d in valid_data])\n",
    "print(len(x_valid), y_valid.shape)"
   ]
  },
  {
   "cell_type": "code",
   "execution_count": 4,
   "metadata": {},
   "outputs": [],
   "source": [
    "from gensim.models import KeyedVectors\n",
    "news_path = 'data/GoogleNews-vectors-negative300.bin'\n",
    "words = KeyedVectors.load_word2vec_format(news_path, binary = True)"
   ]
  },
  {
   "cell_type": "code",
   "execution_count": 5,
   "metadata": {},
   "outputs": [],
   "source": [
    "def vec2sum(x_data, dim):\n",
    "    pattern = re.compile(r'[a-z|A-Z]+', re.MULTILINE + re.VERBOSE)  \n",
    "    vector_sum = np.zeros((len(x_data), dim))\n",
    "    for i, s in enumerate(x_data):\n",
    "        vector = np.zeros(dim) \n",
    "        cnt = 0\n",
    "        ss = pattern.findall(s)\n",
    "        for noun in ss:\n",
    "            try :\n",
    "                cnt += 1\n",
    "                vector += words[noun]\n",
    "            except KeyError as error:\n",
    "                continue\n",
    "        if cnt == 0:\n",
    "            continue\n",
    "        vector_sum[i] = (vector / cnt)\n",
    "\n",
    "    return vector_sum"
   ]
  },
  {
   "cell_type": "code",
   "execution_count": 6,
   "metadata": {},
   "outputs": [
    {
     "name": "stdout",
     "output_type": "stream",
     "text": [
      "8708\n",
      "(8708, 300)\n"
     ]
    }
   ],
   "source": [
    "x_feature = vec2sum(x_train, 300)\n",
    "print(len(x_train))\n",
    "print(x_feature.shape)\n"
   ]
  },
  {
   "cell_type": "code",
   "execution_count": 7,
   "metadata": {},
   "outputs": [],
   "source": [
    "import torch\n",
    "import torch.nn as nn\n",
    "import torch.nn.functional as func\n",
    "import torch.optim as optim\n",
    "from torch.autograd import Variable\n",
    "dim = words['US'].shape[0] # 単語ベクトルの次元"
   ]
  },
  {
   "cell_type": "code",
   "execution_count": 8,
   "metadata": {},
   "outputs": [
    {
     "name": "stdout",
     "output_type": "stream",
     "text": [
      "tensor([[0.1806, 0.1642, 0.3553, 0.2999]], grad_fn=<SoftmaxBackward>)\n"
     ]
    },
    {
     "name": "stderr",
     "output_type": "stream",
     "text": [
      "/Users/taimu/yes/lib/python3.7/site-packages/ipykernel_launcher.py:4: UserWarning: Implicit dimension choice for softmax has been deprecated. Change the call to include dim=X as an argument.\n",
      "  after removing the cwd from sys.path.\n"
     ]
    }
   ],
   "source": [
    "# 71\n",
    "w = torch.randn(dim, 4, requires_grad = True)\n",
    "x_feature = torch.tensor(x_feature, requires_grad = True)\n",
    "y = func.softmax(torch.matmul(x_feature[:1].float(), w))\n",
    "\n",
    "print(y)\n"
   ]
  },
  {
   "cell_type": "code",
   "execution_count": 9,
   "metadata": {},
   "outputs": [
    {
     "name": "stdout",
     "output_type": "stream",
     "text": [
      "tensor([[0.1806, 0.1642, 0.3553, 0.2999],\n",
      "        [0.0595, 0.5623, 0.2782, 0.1000],\n",
      "        [0.1504, 0.2301, 0.5477, 0.0718],\n",
      "        [0.2057, 0.4193, 0.1192, 0.2558]], grad_fn=<SoftmaxBackward>)\n"
     ]
    }
   ],
   "source": [
    "# 複数事例\n",
    "Y = func.softmax(torch.mm(x_feature[:4].float(), w), dim = 1)\n",
    "print(Y)"
   ]
  },
  {
   "cell_type": "code",
   "execution_count": 10,
   "metadata": {},
   "outputs": [
    {
     "name": "stdout",
     "output_type": "stream",
     "text": [
      "tensor(1.0347, grad_fn=<NllLossBackward>)\n",
      "tensor([[-0.0030, -0.0028,  0.0108, -0.0050],\n",
      "        [ 0.0201,  0.0183, -0.0718,  0.0334],\n",
      "        [-0.0023, -0.0021,  0.0083, -0.0039],\n",
      "        ...,\n",
      "        [-0.0155, -0.0141,  0.0555, -0.0258],\n",
      "        [-0.0058, -0.0053,  0.0208, -0.0097],\n",
      "        [-0.0027, -0.0024,  0.0095, -0.0044]])\n",
      "tensor(1.4555, grad_fn=<NllLossBackward>)\n",
      "tensor([[-0.0239,  0.0244,  0.0094, -0.0099],\n",
      "        [-0.0029,  0.0440, -0.0921,  0.0511],\n",
      "        [ 0.0104, -0.0117,  0.0077, -0.0063],\n",
      "        ...,\n",
      "        [-0.0250,  0.0001,  0.0706, -0.0457],\n",
      "        [-0.0054, -0.0003,  0.0232, -0.0175],\n",
      "        [ 0.0152, -0.0095,  0.0158, -0.0214]])\n",
      "1.4555362877818967\n"
     ]
    }
   ],
   "source": [
    "from math import exp, log\n",
    "\n",
    "criterion = nn.CrossEntropyLoss()\n",
    "y_train = torch.tensor(y_train.astype(float), requires_grad = True)\n",
    "\n",
    "# 単体事例\n",
    "y_ = criterion(torch.mm(x_feature[:1].float(), w), y_train[:1].long())\n",
    "print(y_)\n",
    "y_.backward()\n",
    "print(w.grad)\n",
    "\n",
    "# 複数事例\n",
    "Y_ = criterion(torch.mm(x_feature[:4].float(), w), y_train[:4].long())\n",
    "print(Y_)\n",
    "Y_.backward()\n",
    "print(w.grad)\n",
    "\n",
    "# 検算\n",
    "ans = []\n",
    "for yy, i in zip(Y, y_train[:4].long()):\n",
    "    ans.append(-log(yy[i]))\n",
    "print(sum(ans) / len(ans))"
   ]
  },
  {
   "cell_type": "code",
   "execution_count": 11,
   "metadata": {},
   "outputs": [],
   "source": [
    "import time\n",
    "import matplotlib.pyplot as plt\n",
    "%matplotlib inline"
   ]
  },
  {
   "cell_type": "code",
   "execution_count": 12,
   "metadata": {},
   "outputs": [],
   "source": [
    "class MyNet(nn.Module):\n",
    "    def __init__(self, input_size):\n",
    "        super(MyNet, self).__init__()\n",
    "        self.fc1 = torch.nn.Linear(input_size, 4)\n",
    "        \n",
    "    def forward(self, x):\n",
    "        x = self.fc1(x)\n",
    "        return x"
   ]
  },
  {
   "cell_type": "code",
   "execution_count": 13,
   "metadata": {},
   "outputs": [],
   "source": [
    "mynet = MyNet(dim)\n",
    "optimizer = optim.SGD(mynet.parameters(), lr = 0.01, momentum = 0.9)\n",
    "num_epochs = 100\n",
    "save_path = '../data/params.tar'"
   ]
  },
  {
   "cell_type": "code",
   "execution_count": 14,
   "metadata": {},
   "outputs": [],
   "source": [
    "class Model():\n",
    "    def __init__(self, model):\n",
    "        self.model = model\n",
    "        \n",
    "    def set_params(self, num_epochs, num_batches, optimizer, criterion, x_valid, y_valid):\n",
    "        # エポック数，バッチサイズ，最適化アルゴリズム，損失関数の初期化\n",
    "        self.num_epochs = num_epochs\n",
    "        self.num_batches = num_batches\n",
    "        self.optimizer = optimizer\n",
    "        self.criterion = criterion\n",
    "        self.x_valid = torch.tensor(x_valid).float()\n",
    "        self.y_valid = torch.tensor(y_valid).long()\n",
    "        \n",
    "        # epoch毎の損失と精度を保持するリスト\n",
    "        self.train_score = np.zeros(num_epochs)        \n",
    "        self.train_loss = np.zeros(num_epochs)\n",
    "        self.valid_score = np.zeros(num_epochs)\n",
    "        self.valid_loss = np.zeros(num_epochs)\n",
    "\n",
    "    def fit(self, x_train, y_train):\n",
    "        num_data = x_train.shape[0]\n",
    "        for epoch in range(self.num_epochs):\n",
    "\n",
    "            # epoch毎の損失と精度\n",
    "            running_loss = 0.0\n",
    "            accuracy = 0.0\n",
    "\n",
    "            # 開始時間\n",
    "            t = time.time()\n",
    "\n",
    "            # ミニバッチ学習のために訓練データのインデックスをランダムに並べ替える\n",
    "            index = np.random.permutation(num_data)\n",
    "\n",
    "            for i in range(0, num_data, self.num_batches):\n",
    "                # NNへの入力と正解ラベル\n",
    "                in_, label = torch.tensor(x_train[index[i : i + self.num_batches if i + self.num_batches < num_data else num_data]]), \\\n",
    "                             torch.tensor(y_train[index[i : i + self.num_batches if i + self.num_batches < num_data else num_data]]).long()\n",
    "\n",
    "                # 最適化関数の初期化\n",
    "                self.optimizer.zero_grad()\n",
    "\n",
    "                # 予測とロスの計算\n",
    "                out_ = self.model(in_.float())\n",
    "                loss = self.criterion(out_, label)\n",
    "                _, idx = torch.max(out_, 1)\n",
    "\n",
    "                # バッチ数のラベルより正解数のカウント\n",
    "                accuracy += (np.sum(idx.numpy() == label.numpy()) / idx.shape[0])\n",
    "\n",
    "                # パラメーターの更新\n",
    "                loss.backward()\n",
    "                optimizer.step()\n",
    "                running_loss += loss.data\n",
    "                \n",
    "            out_ = self.model(self.x_valid)\n",
    "            _, idx = torch.max(out_, 1)\n",
    "            v_accuracy = self.evaluate(self.x_valid, self.y_valid)\n",
    "            v_loss = self.criterion(out_, self.y_valid)\n",
    "            v_loss.backward()\n",
    "\n",
    "            # 各種データの出力・保存\n",
    "            num_loop = num_data / self.num_batches\n",
    "            accuracy /= num_loop\n",
    "            loss = running_loss / num_loop\n",
    "            print('[ epoch:{0}, time:{3} ]  acc: {1:.4f}  loss:{2:.4f}'.format(epoch + 1, accuracy, loss, time.time() - t))\n",
    "            self.train_score[epoch] = accuracy\n",
    "            self.train_loss[epoch] = loss\n",
    "            self.valid_score[epoch] = v_accuracy\n",
    "            self.valid_loss[epoch] = v_loss.data\n",
    "\n",
    " \n",
    "            # 状況の保存\n",
    "            torch.save({\n",
    "              'epoch': epoch,\n",
    "              'model_state_dict': self.model.state_dict(),\n",
    "              'optimizer_state_dict': self.optimizer.state_dict(),\n",
    "              'loss': loss,\n",
    "              'accuracy': accuracy,\n",
    "              }, save_path)\n",
    "    \n",
    "    def predict(self, x):\n",
    "        out_ = self.model(x)\n",
    "        return out_\n",
    "    \n",
    "    def evaluate(self, x, y):\n",
    "        p = self.predict(x)\n",
    "        _, idx = torch.max(p, 1)\n",
    "        accuracy = np.sum(idx.numpy() == y.numpy()) / idx.shape[0]\n",
    "        \n",
    "        return accuracy\n",
    "    \n",
    "    def visualize(self):\n",
    "        x = np.arange(len(self.train_score))\n",
    "        fig = plt.figure()\n",
    "        ax = fig.add_subplot(211)\n",
    "        ax.plot(x, self.train_score, color = 'red', linewidth = 2, label = 'train_score')\n",
    "        ax.plot(x, self.valid_score, color = 'blue', linewidth = 1, label = 'valid_score', linestyle = 'dashed')\n",
    "\n",
    "        ax2 = fig.add_subplot(212)\n",
    "        ax2.plot(x, self.train_loss, color = 'green', linewidth = 2, label = 'train_loss')\n",
    "        ax2.plot(x, self.valid_loss, color = 'blue', linewidth = 1, label = 'valid_loss', linestyle = 'dashed')\n",
    "        ax.legend()\n",
    "        ax2.legend()\n",
    "        plt.plot()\n",
    "    "
   ]
  },
  {
   "cell_type": "code",
   "execution_count": 15,
   "metadata": {},
   "outputs": [],
   "source": [
    "model = Model(mynet)\n",
    "model.set_params(num_epochs, 16, optimizer, criterion, vec2sum(x_valid, dim), y_valid)"
   ]
  },
  {
   "cell_type": "code",
   "execution_count": 16,
   "metadata": {
    "scrolled": true
   },
   "outputs": [
    {
     "name": "stderr",
     "output_type": "stream",
     "text": [
      "/Users/taimu/yes/lib/python3.7/site-packages/ipykernel_launcher.py:36: UserWarning: To copy construct from a tensor, it is recommended to use sourceTensor.clone().detach() or sourceTensor.clone().detach().requires_grad_(True), rather than torch.tensor(sourceTensor).\n",
      "/Users/taimu/yes/lib/python3.7/site-packages/ipykernel_launcher.py:37: UserWarning: To copy construct from a tensor, it is recommended to use sourceTensor.clone().detach() or sourceTensor.clone().detach().requires_grad_(True), rather than torch.tensor(sourceTensor).\n"
     ]
    },
    {
     "name": "stdout",
     "output_type": "stream",
     "text": [
      "[ epoch:1, time:0.19979095458984375 ]  acc: 0.7901  loss:0.7395\n",
      "[ epoch:2, time:0.22914886474609375 ]  acc: 0.8273  loss:0.5138\n",
      "[ epoch:3, time:0.21206021308898926 ]  acc: 0.8485  loss:0.4409\n",
      "[ epoch:4, time:0.21294784545898438 ]  acc: 0.8674  loss:0.3986\n",
      "[ epoch:5, time:0.2129840850830078 ]  acc: 0.8799  loss:0.3698\n",
      "[ epoch:6, time:0.21240520477294922 ]  acc: 0.8892  loss:0.3494\n",
      "[ epoch:7, time:0.21036005020141602 ]  acc: 0.8937  loss:0.3340\n",
      "[ epoch:8, time:0.21610808372497559 ]  acc: 0.8976  loss:0.3220\n",
      "[ epoch:9, time:0.21641111373901367 ]  acc: 0.9010  loss:0.3129\n",
      "[ epoch:10, time:0.2149200439453125 ]  acc: 0.9025  loss:0.3038\n",
      "[ epoch:11, time:0.22524690628051758 ]  acc: 0.9050  loss:0.2970\n",
      "[ epoch:12, time:0.22061514854431152 ]  acc: 0.9078  loss:0.2913\n",
      "[ epoch:13, time:0.21181893348693848 ]  acc: 0.9078  loss:0.2864\n",
      "[ epoch:14, time:0.21261191368103027 ]  acc: 0.9099  loss:0.2825\n",
      "[ epoch:15, time:0.21867704391479492 ]  acc: 0.9112  loss:0.2770\n",
      "[ epoch:16, time:0.23090600967407227 ]  acc: 0.9120  loss:0.2736\n",
      "[ epoch:17, time:0.23098206520080566 ]  acc: 0.9127  loss:0.2700\n",
      "[ epoch:18, time:0.22693920135498047 ]  acc: 0.9135  loss:0.2667\n",
      "[ epoch:19, time:0.2303478717803955 ]  acc: 0.9139  loss:0.2643\n",
      "[ epoch:20, time:0.22949671745300293 ]  acc: 0.9154  loss:0.2615\n",
      "[ epoch:21, time:0.22862696647644043 ]  acc: 0.9144  loss:0.2595\n",
      "[ epoch:22, time:0.2278461456298828 ]  acc: 0.9173  loss:0.2569\n",
      "[ epoch:23, time:0.2212841510772705 ]  acc: 0.9172  loss:0.2549\n",
      "[ epoch:24, time:0.2137138843536377 ]  acc: 0.9179  loss:0.2521\n",
      "[ epoch:25, time:0.22056984901428223 ]  acc: 0.9188  loss:0.2510\n",
      "[ epoch:26, time:0.21738505363464355 ]  acc: 0.9188  loss:0.2499\n",
      "[ epoch:27, time:0.22519183158874512 ]  acc: 0.9189  loss:0.2479\n",
      "[ epoch:28, time:0.22778701782226562 ]  acc: 0.9194  loss:0.2465\n",
      "[ epoch:29, time:0.23151898384094238 ]  acc: 0.9208  loss:0.2444\n",
      "[ epoch:30, time:0.2270069122314453 ]  acc: 0.9206  loss:0.2432\n",
      "[ epoch:31, time:0.22650408744812012 ]  acc: 0.9213  loss:0.2422\n",
      "[ epoch:32, time:0.22930002212524414 ]  acc: 0.9220  loss:0.2402\n",
      "[ epoch:33, time:0.22998309135437012 ]  acc: 0.9211  loss:0.2399\n",
      "[ epoch:34, time:0.21998286247253418 ]  acc: 0.9227  loss:0.2381\n",
      "[ epoch:35, time:0.21087217330932617 ]  acc: 0.9234  loss:0.2367\n",
      "[ epoch:36, time:0.226790189743042 ]  acc: 0.9227  loss:0.2363\n",
      "[ epoch:37, time:0.22717690467834473 ]  acc: 0.9223  loss:0.2344\n",
      "[ epoch:38, time:0.22811508178710938 ]  acc: 0.9241  loss:0.2335\n",
      "[ epoch:39, time:0.22511672973632812 ]  acc: 0.9256  loss:0.2338\n",
      "[ epoch:40, time:0.2121882438659668 ]  acc: 0.9248  loss:0.2318\n",
      "[ epoch:41, time:0.22078227996826172 ]  acc: 0.9255  loss:0.2309\n",
      "[ epoch:42, time:0.21674895286560059 ]  acc: 0.9231  loss:0.2297\n",
      "[ epoch:43, time:0.22201800346374512 ]  acc: 0.9251  loss:0.2296\n",
      "[ epoch:44, time:0.22908401489257812 ]  acc: 0.9255  loss:0.2282\n",
      "[ epoch:45, time:0.23035001754760742 ]  acc: 0.9258  loss:0.2280\n",
      "[ epoch:46, time:0.22986698150634766 ]  acc: 0.9259  loss:0.2268\n",
      "[ epoch:47, time:0.21117377281188965 ]  acc: 0.9255  loss:0.2262\n",
      "[ epoch:48, time:0.2099010944366455 ]  acc: 0.9262  loss:0.2252\n",
      "[ epoch:49, time:0.21647310256958008 ]  acc: 0.9266  loss:0.2245\n",
      "[ epoch:50, time:0.21509575843811035 ]  acc: 0.9257  loss:0.2242\n",
      "[ epoch:51, time:0.21228981018066406 ]  acc: 0.9275  loss:0.2230\n",
      "[ epoch:52, time:0.21513104438781738 ]  acc: 0.9270  loss:0.2224\n",
      "[ epoch:53, time:0.20953798294067383 ]  acc: 0.9272  loss:0.2217\n",
      "[ epoch:54, time:0.21079492568969727 ]  acc: 0.9274  loss:0.2212\n",
      "[ epoch:55, time:0.20938897132873535 ]  acc: 0.9275  loss:0.2205\n",
      "[ epoch:56, time:0.20903897285461426 ]  acc: 0.9273  loss:0.2209\n",
      "[ epoch:57, time:0.2085587978363037 ]  acc: 0.9271  loss:0.2204\n",
      "[ epoch:58, time:0.2077789306640625 ]  acc: 0.9288  loss:0.2189\n",
      "[ epoch:59, time:0.21456503868103027 ]  acc: 0.9273  loss:0.2187\n",
      "[ epoch:60, time:0.2167208194732666 ]  acc: 0.9273  loss:0.2176\n",
      "[ epoch:61, time:0.2167057991027832 ]  acc: 0.9283  loss:0.2170\n",
      "[ epoch:62, time:0.21344470977783203 ]  acc: 0.9273  loss:0.2164\n",
      "[ epoch:63, time:0.21410584449768066 ]  acc: 0.9279  loss:0.2162\n",
      "[ epoch:64, time:0.22167420387268066 ]  acc: 0.9278  loss:0.2156\n",
      "[ epoch:65, time:0.2146167755126953 ]  acc: 0.9286  loss:0.2151\n",
      "[ epoch:66, time:0.21296215057373047 ]  acc: 0.9290  loss:0.2145\n",
      "[ epoch:67, time:0.2125990390777588 ]  acc: 0.9282  loss:0.2141\n",
      "[ epoch:68, time:0.2154250144958496 ]  acc: 0.9287  loss:0.2140\n",
      "[ epoch:69, time:0.21337294578552246 ]  acc: 0.9286  loss:0.2131\n",
      "[ epoch:70, time:0.21472406387329102 ]  acc: 0.9296  loss:0.2127\n",
      "[ epoch:71, time:0.21438002586364746 ]  acc: 0.9287  loss:0.2127\n",
      "[ epoch:72, time:0.21565604209899902 ]  acc: 0.9302  loss:0.2116\n",
      "[ epoch:73, time:0.2125248908996582 ]  acc: 0.9296  loss:0.2112\n",
      "[ epoch:74, time:0.21358203887939453 ]  acc: 0.9291  loss:0.2107\n",
      "[ epoch:75, time:0.20908498764038086 ]  acc: 0.9278  loss:0.2114\n",
      "[ epoch:76, time:0.20762300491333008 ]  acc: 0.9296  loss:0.2100\n",
      "[ epoch:77, time:0.20966506004333496 ]  acc: 0.9287  loss:0.2125\n",
      "[ epoch:78, time:0.2088029384613037 ]  acc: 0.9299  loss:0.2093\n",
      "[ epoch:79, time:0.20939970016479492 ]  acc: 0.9298  loss:0.2088\n",
      "[ epoch:80, time:0.21071290969848633 ]  acc: 0.9297  loss:0.2084\n",
      "[ epoch:81, time:0.21330690383911133 ]  acc: 0.9299  loss:0.2083\n",
      "[ epoch:82, time:0.21326613426208496 ]  acc: 0.9310  loss:0.2080\n",
      "[ epoch:83, time:0.21330618858337402 ]  acc: 0.9296  loss:0.2079\n",
      "[ epoch:84, time:0.21547794342041016 ]  acc: 0.9297  loss:0.2069\n",
      "[ epoch:85, time:0.2142338752746582 ]  acc: 0.9306  loss:0.2065\n",
      "[ epoch:86, time:0.21735715866088867 ]  acc: 0.9302  loss:0.2067\n",
      "[ epoch:87, time:0.2138080596923828 ]  acc: 0.9299  loss:0.2065\n",
      "[ epoch:88, time:0.21442103385925293 ]  acc: 0.9306  loss:0.2059\n",
      "[ epoch:89, time:0.2142467498779297 ]  acc: 0.9303  loss:0.2055\n",
      "[ epoch:90, time:0.21341681480407715 ]  acc: 0.9304  loss:0.2063\n",
      "[ epoch:91, time:0.2138221263885498 ]  acc: 0.9305  loss:0.2046\n",
      "[ epoch:92, time:0.21308326721191406 ]  acc: 0.9302  loss:0.2047\n",
      "[ epoch:93, time:0.2235260009765625 ]  acc: 0.9309  loss:0.2041\n",
      "[ epoch:94, time:0.21503305435180664 ]  acc: 0.9309  loss:0.2038\n",
      "[ epoch:95, time:0.21357202529907227 ]  acc: 0.9311  loss:0.2034\n",
      "[ epoch:96, time:0.2131209373474121 ]  acc: 0.9297  loss:0.2036\n",
      "[ epoch:97, time:0.2140190601348877 ]  acc: 0.9313  loss:0.2028\n",
      "[ epoch:98, time:0.21331310272216797 ]  acc: 0.9305  loss:0.2028\n",
      "[ epoch:99, time:0.21289396286010742 ]  acc: 0.9313  loss:0.2022\n",
      "[ epoch:100, time:0.2129359245300293 ]  acc: 0.9317  loss:0.2021\n"
     ]
    }
   ],
   "source": [
    "model.fit(x_feature, y_train)"
   ]
  },
  {
   "cell_type": "code",
   "execution_count": 17,
   "metadata": {},
   "outputs": [
    {
     "name": "stderr",
     "output_type": "stream",
     "text": [
      "/Users/taimu/yes/lib/python3.7/site-packages/ipykernel_launcher.py:1: UserWarning: To copy construct from a tensor, it is recommended to use sourceTensor.clone().detach() or sourceTensor.clone().detach().requires_grad_(True), rather than torch.tensor(sourceTensor).\n",
      "  \"\"\"Entry point for launching an IPython kernel.\n"
     ]
    },
    {
     "data": {
      "text/plain": [
       "0.9299494717501149"
      ]
     },
     "execution_count": 17,
     "metadata": {},
     "output_type": "execute_result"
    }
   ],
   "source": [
    "model.evaluate(x_feature.float(), torch.tensor(y_train))"
   ]
  },
  {
   "cell_type": "code",
   "execution_count": 18,
   "metadata": {},
   "outputs": [
    {
     "data": {
      "text/plain": [
       "0.9246323529411765"
      ]
     },
     "execution_count": 18,
     "metadata": {},
     "output_type": "execute_result"
    }
   ],
   "source": [
    "model.evaluate(torch.tensor(vec2sum(x_valid, dim), requires_grad = True).float(), torch.tensor(y_valid))"
   ]
  },
  {
   "cell_type": "code",
   "execution_count": 19,
   "metadata": {
    "scrolled": true
   },
   "outputs": [
    {
     "data": {
      "text/plain": [
       "0.9439853076216712"
      ]
     },
     "execution_count": 19,
     "metadata": {},
     "output_type": "execute_result"
    }
   ],
   "source": [
    "model.evaluate(torch.tensor(vec2sum(x_test, dim), requires_grad = True).float(), torch.tensor(y_test))"
   ]
  },
  {
   "cell_type": "code",
   "execution_count": 20,
   "metadata": {},
   "outputs": [
    {
     "data": {
      "image/png": "[encoded data removed]",
      "text/plain": [
       "<Figure size 432x288 with 2 Axes>"
      ]
     },
     "metadata": {
      "needs_background": "light"
     },
     "output_type": "display_data"
    }
   ],
   "source": [
    "model.visualize()"
   ]
  },
  {
   "cell_type": "code",
   "execution_count": 21,
   "metadata": {},
   "outputs": [],
   "source": [
    "model2 = Model(mynet)\n",
    "model2.set_params(num_epochs, 4, optimizer, criterion, vec2sum(x_valid, dim), y_valid)"
   ]
  },
  {
   "cell_type": "code",
   "execution_count": 22,
   "metadata": {},
   "outputs": [
    {
     "name": "stderr",
     "output_type": "stream",
     "text": [
      "/Users/taimu/yes/lib/python3.7/site-packages/ipykernel_launcher.py:36: UserWarning: To copy construct from a tensor, it is recommended to use sourceTensor.clone().detach() or sourceTensor.clone().detach().requires_grad_(True), rather than torch.tensor(sourceTensor).\n",
      "/Users/taimu/yes/lib/python3.7/site-packages/ipykernel_launcher.py:37: UserWarning: To copy construct from a tensor, it is recommended to use sourceTensor.clone().detach() or sourceTensor.clone().detach().requires_grad_(True), rather than torch.tensor(sourceTensor).\n"
     ]
    },
    {
     "name": "stdout",
     "output_type": "stream",
     "text": [
      "[ epoch:1, time:0.6712989807128906 ]  acc: 0.9296  loss:0.2029\n",
      "[ epoch:2, time:0.7032830715179443 ]  acc: 0.9297  loss:0.2019\n",
      "[ epoch:3, time:0.7054562568664551 ]  acc: 0.9299  loss:0.2007\n",
      "[ epoch:4, time:0.707669734954834 ]  acc: 0.9298  loss:0.1998\n",
      "[ epoch:5, time:0.6924247741699219 ]  acc: 0.9303  loss:0.1990\n",
      "[ epoch:6, time:0.7187838554382324 ]  acc: 0.9305  loss:0.1981\n",
      "[ epoch:7, time:0.7493162155151367 ]  acc: 0.9318  loss:0.1970\n",
      "[ epoch:8, time:0.7304482460021973 ]  acc: 0.9308  loss:0.1966\n",
      "[ epoch:9, time:0.7042572498321533 ]  acc: 0.9321  loss:0.1956\n",
      "[ epoch:10, time:0.7345411777496338 ]  acc: 0.9318  loss:0.1948\n",
      "[ epoch:11, time:0.7207117080688477 ]  acc: 0.9327  loss:0.1941\n",
      "[ epoch:12, time:0.7573330402374268 ]  acc: 0.9324  loss:0.1932\n",
      "[ epoch:13, time:0.6969561576843262 ]  acc: 0.9333  loss:0.1928\n",
      "[ epoch:14, time:0.6941943168640137 ]  acc: 0.9332  loss:0.1919\n",
      "[ epoch:15, time:0.6937708854675293 ]  acc: 0.9337  loss:0.1915\n",
      "[ epoch:16, time:0.6994380950927734 ]  acc: 0.9345  loss:0.1908\n",
      "[ epoch:17, time:0.6990196704864502 ]  acc: 0.9332  loss:0.1902\n",
      "[ epoch:18, time:0.6950101852416992 ]  acc: 0.9342  loss:0.1899\n",
      "[ epoch:19, time:0.6960947513580322 ]  acc: 0.9340  loss:0.1891\n",
      "[ epoch:20, time:0.6997110843658447 ]  acc: 0.9333  loss:0.1883\n",
      "[ epoch:21, time:0.6963009834289551 ]  acc: 0.9342  loss:0.1878\n",
      "[ epoch:22, time:0.7156269550323486 ]  acc: 0.9350  loss:0.1869\n",
      "[ epoch:23, time:0.7471327781677246 ]  acc: 0.9341  loss:0.1873\n",
      "[ epoch:24, time:0.7482559680938721 ]  acc: 0.9334  loss:0.1865\n",
      "[ epoch:25, time:0.7162511348724365 ]  acc: 0.9341  loss:0.1863\n",
      "[ epoch:26, time:0.7244560718536377 ]  acc: 0.9342  loss:0.1858\n",
      "[ epoch:27, time:0.7268106937408447 ]  acc: 0.9357  loss:0.1852\n",
      "[ epoch:28, time:0.7153301239013672 ]  acc: 0.9334  loss:0.1851\n",
      "[ epoch:29, time:0.7156543731689453 ]  acc: 0.9348  loss:0.1844\n",
      "[ epoch:30, time:0.7227411270141602 ]  acc: 0.9355  loss:0.1843\n",
      "[ epoch:31, time:0.7708330154418945 ]  acc: 0.9348  loss:0.1839\n",
      "[ epoch:32, time:0.7490136623382568 ]  acc: 0.9359  loss:0.1833\n",
      "[ epoch:33, time:0.749424934387207 ]  acc: 0.9362  loss:0.1825\n",
      "[ epoch:34, time:0.7431318759918213 ]  acc: 0.9358  loss:0.1824\n",
      "[ epoch:35, time:0.7337830066680908 ]  acc: 0.9350  loss:0.1821\n",
      "[ epoch:36, time:0.7195448875427246 ]  acc: 0.9355  loss:0.1817\n",
      "[ epoch:37, time:0.7183091640472412 ]  acc: 0.9362  loss:0.1815\n",
      "[ epoch:38, time:0.7222728729248047 ]  acc: 0.9356  loss:0.1811\n",
      "[ epoch:39, time:0.7038447856903076 ]  acc: 0.9351  loss:0.1805\n",
      "[ epoch:40, time:0.6957738399505615 ]  acc: 0.9368  loss:0.1798\n",
      "[ epoch:41, time:0.6887459754943848 ]  acc: 0.9366  loss:0.1801\n",
      "[ epoch:42, time:0.6910290718078613 ]  acc: 0.9357  loss:0.1799\n",
      "[ epoch:43, time:0.6856729984283447 ]  acc: 0.9370  loss:0.1796\n",
      "[ epoch:44, time:0.6891438961029053 ]  acc: 0.9360  loss:0.1789\n",
      "[ epoch:45, time:0.6919009685516357 ]  acc: 0.9370  loss:0.1787\n",
      "[ epoch:46, time:0.6896660327911377 ]  acc: 0.9373  loss:0.1785\n",
      "[ epoch:47, time:0.6916210651397705 ]  acc: 0.9368  loss:0.1782\n",
      "[ epoch:48, time:0.6911890506744385 ]  acc: 0.9372  loss:0.1780\n",
      "[ epoch:49, time:0.6911368370056152 ]  acc: 0.9375  loss:0.1775\n",
      "[ epoch:50, time:0.6983499526977539 ]  acc: 0.9371  loss:0.1774\n",
      "[ epoch:51, time:0.692523717880249 ]  acc: 0.9370  loss:0.1775\n",
      "[ epoch:52, time:0.6912858486175537 ]  acc: 0.9379  loss:0.1770\n",
      "[ epoch:53, time:0.7002906799316406 ]  acc: 0.9384  loss:0.1764\n",
      "[ epoch:54, time:0.6949691772460938 ]  acc: 0.9387  loss:0.1760\n",
      "[ epoch:55, time:0.6912240982055664 ]  acc: 0.9375  loss:0.1762\n",
      "[ epoch:56, time:0.6985821723937988 ]  acc: 0.9376  loss:0.1758\n",
      "[ epoch:57, time:0.6914129257202148 ]  acc: 0.9375  loss:0.1756\n",
      "[ epoch:58, time:0.6956930160522461 ]  acc: 0.9362  loss:0.1752\n",
      "[ epoch:59, time:0.6957240104675293 ]  acc: 0.9378  loss:0.1755\n",
      "[ epoch:60, time:0.691727876663208 ]  acc: 0.9389  loss:0.1749\n",
      "[ epoch:61, time:0.696617841720581 ]  acc: 0.9376  loss:0.1750\n",
      "[ epoch:62, time:0.6952409744262695 ]  acc: 0.9387  loss:0.1746\n",
      "[ epoch:63, time:0.6947529315948486 ]  acc: 0.9379  loss:0.1747\n",
      "[ epoch:64, time:0.6929459571838379 ]  acc: 0.9372  loss:0.1742\n",
      "[ epoch:65, time:0.6985158920288086 ]  acc: 0.9380  loss:0.1742\n",
      "[ epoch:66, time:0.6914780139923096 ]  acc: 0.9379  loss:0.1739\n",
      "[ epoch:67, time:0.696458101272583 ]  acc: 0.9375  loss:0.1739\n",
      "[ epoch:68, time:0.6904866695404053 ]  acc: 0.9386  loss:0.1731\n",
      "[ epoch:69, time:0.698040246963501 ]  acc: 0.9390  loss:0.1728\n",
      "[ epoch:70, time:0.6981308460235596 ]  acc: 0.9384  loss:0.1735\n",
      "[ epoch:71, time:0.6940412521362305 ]  acc: 0.9381  loss:0.1730\n",
      "[ epoch:72, time:0.706061840057373 ]  acc: 0.9382  loss:0.1728\n",
      "[ epoch:73, time:0.700261116027832 ]  acc: 0.9403  loss:0.1722\n",
      "[ epoch:74, time:0.6929621696472168 ]  acc: 0.9381  loss:0.1726\n",
      "[ epoch:75, time:0.6951920986175537 ]  acc: 0.9398  loss:0.1726\n",
      "[ epoch:76, time:0.7110960483551025 ]  acc: 0.9387  loss:0.1720\n",
      "[ epoch:77, time:0.6929028034210205 ]  acc: 0.9386  loss:0.1719\n",
      "[ epoch:78, time:0.6975412368774414 ]  acc: 0.9391  loss:0.1716\n",
      "[ epoch:79, time:0.6944470405578613 ]  acc: 0.9387  loss:0.1714\n",
      "[ epoch:80, time:0.7018921375274658 ]  acc: 0.9396  loss:0.1713\n",
      "[ epoch:81, time:0.7074477672576904 ]  acc: 0.9398  loss:0.1712\n",
      "[ epoch:82, time:0.6994051933288574 ]  acc: 0.9386  loss:0.1712\n",
      "[ epoch:83, time:0.7408530712127686 ]  acc: 0.9388  loss:0.1706\n",
      "[ epoch:84, time:0.6987590789794922 ]  acc: 0.9397  loss:0.1707\n",
      "[ epoch:85, time:0.6930532455444336 ]  acc: 0.9388  loss:0.1710\n",
      "[ epoch:86, time:0.6961920261383057 ]  acc: 0.9393  loss:0.1706\n",
      "[ epoch:87, time:0.6902048587799072 ]  acc: 0.9396  loss:0.1704\n",
      "[ epoch:88, time:0.6967389583587646 ]  acc: 0.9397  loss:0.1704\n",
      "[ epoch:89, time:0.6900789737701416 ]  acc: 0.9402  loss:0.1701\n",
      "[ epoch:90, time:0.6905667781829834 ]  acc: 0.9394  loss:0.1702\n",
      "[ epoch:91, time:0.6940591335296631 ]  acc: 0.9394  loss:0.1699\n",
      "[ epoch:92, time:0.6923799514770508 ]  acc: 0.9397  loss:0.1695\n",
      "[ epoch:93, time:0.6949949264526367 ]  acc: 0.9398  loss:0.1697\n",
      "[ epoch:94, time:0.6952550411224365 ]  acc: 0.9407  loss:0.1690\n",
      "[ epoch:95, time:0.6936841011047363 ]  acc: 0.9399  loss:0.1691\n",
      "[ epoch:96, time:0.6931469440460205 ]  acc: 0.9411  loss:0.1694\n",
      "[ epoch:97, time:0.696491003036499 ]  acc: 0.9397  loss:0.1690\n",
      "[ epoch:98, time:0.6918599605560303 ]  acc: 0.9397  loss:0.1688\n",
      "[ epoch:99, time:0.7177889347076416 ]  acc: 0.9406  loss:0.1690\n",
      "[ epoch:100, time:0.74005126953125 ]  acc: 0.9401  loss:0.1685\n"
     ]
    }
   ],
   "source": [
    "model2.fit(x_feature, y_train)"
   ]
  },
  {
   "cell_type": "code",
   "execution_count": 23,
   "metadata": {},
   "outputs": [],
   "source": [
    "class MyNet2(nn.Module):\n",
    "    def __init__(self, input_size, h_size, output_size):\n",
    "        super(MyNet2, self).__init__()\n",
    "        self.fc1 = torch.nn.Linear(input_size, h_size)\n",
    "        self.fc2 = torch.nn.Linear(h_size, int(h_size / 2))\n",
    "        self.fc3 = torch.nn.Linear(int(h_size / 2), output_size)\n",
    "        \n",
    "    def forward(self, x):\n",
    "        x = self.fc1(x)\n",
    "        x = func.relu(x)\n",
    "        x = self.fc2(x)\n",
    "        x = func.relu(x)\n",
    "        x = self.fc3(x)\n",
    "        return x"
   ]
  },
  {
   "cell_type": "code",
   "execution_count": 24,
   "metadata": {},
   "outputs": [],
   "source": [
    "mynet = MyNet2(dim, 100, 4)\n",
    "optimizer = optim.SGD(mynet.parameters(), lr = 0.01, momentum = 0.9)\n",
    "criterion = torch.nn.CrossEntropyLoss()\n",
    "save_path = '../data/params.tar'\n",
    "\n",
    "model = Model(mynet)\n",
    "model.set_params(num_epochs, 2, optimizer, criterion, vec2sum(x_valid, dim), y_valid)"
   ]
  },
  {
   "cell_type": "code",
   "execution_count": null,
   "metadata": {},
   "outputs": [
    {
     "name": "stderr",
     "output_type": "stream",
     "text": [
      "/Users/taimu/yes/lib/python3.7/site-packages/ipykernel_launcher.py:36: UserWarning: To copy construct from a tensor, it is recommended to use sourceTensor.clone().detach() or sourceTensor.clone().detach().requires_grad_(True), rather than torch.tensor(sourceTensor).\n",
      "/Users/taimu/yes/lib/python3.7/site-packages/ipykernel_launcher.py:37: UserWarning: To copy construct from a tensor, it is recommended to use sourceTensor.clone().detach() or sourceTensor.clone().detach().requires_grad_(True), rather than torch.tensor(sourceTensor).\n"
     ]
    },
    {
     "name": "stdout",
     "output_type": "stream",
     "text": [
      "[ epoch:1, time:2.714562177658081 ]  acc: 0.8511  loss:0.4141\n",
      "[ epoch:2, time:2.7528021335601807 ]  acc: 0.9099  loss:0.2652\n",
      "[ epoch:3, time:2.709635019302368 ]  acc: 0.9181  loss:0.2313\n",
      "[ epoch:4, time:2.730846881866455 ]  acc: 0.9212  loss:0.2175\n",
      "[ epoch:5, time:2.64666485786438 ]  acc: 0.9267  loss:0.1999\n",
      "[ epoch:6, time:2.613356590270996 ]  acc: 0.9305  loss:0.1868\n",
      "[ epoch:7, time:2.618211269378662 ]  acc: 0.9353  loss:0.1793\n",
      "[ epoch:8, time:2.604094982147217 ]  acc: 0.9393  loss:0.1616\n",
      "[ epoch:9, time:2.6057159900665283 ]  acc: 0.9443  loss:0.1527\n",
      "[ epoch:10, time:2.610842227935791 ]  acc: 0.9445  loss:0.1453\n",
      "[ epoch:11, time:2.598304033279419 ]  acc: 0.9496  loss:0.1303\n",
      "[ epoch:12, time:2.6054847240448 ]  acc: 0.9540  loss:0.1230\n",
      "[ epoch:13, time:2.649444818496704 ]  acc: 0.9580  loss:0.1149\n",
      "[ epoch:14, time:2.7256112098693848 ]  acc: 0.9596  loss:0.1037\n",
      "[ epoch:15, time:2.8109450340270996 ]  acc: 0.9613  loss:0.1016\n",
      "[ epoch:16, time:2.7816641330718994 ]  acc: 0.9661  loss:0.0870\n",
      "[ epoch:17, time:2.7483646869659424 ]  acc: 0.9712  loss:0.0791\n",
      "[ epoch:18, time:2.7227699756622314 ]  acc: 0.9743  loss:0.0683\n",
      "[ epoch:19, time:2.724498987197876 ]  acc: 0.9728  loss:0.0703\n",
      "[ epoch:20, time:2.7031428813934326 ]  acc: 0.9783  loss:0.0613\n",
      "[ epoch:21, time:2.8505349159240723 ]  acc: 0.9796  loss:0.0564\n",
      "[ epoch:22, time:2.754547119140625 ]  acc: 0.9824  loss:0.0486\n",
      "[ epoch:23, time:2.8249518871307373 ]  acc: 0.9823  loss:0.0485\n",
      "[ epoch:24, time:2.6825311183929443 ]  acc: 0.9823  loss:0.0533\n",
      "[ epoch:25, time:2.7315728664398193 ]  acc: 0.9878  loss:0.0322\n",
      "[ epoch:26, time:2.851830005645752 ]  acc: 0.9871  loss:0.0386\n",
      "[ epoch:27, time:2.840452194213867 ]  acc: 0.9881  loss:0.0381\n",
      "[ epoch:28, time:2.9222941398620605 ]  acc: 0.9891  loss:0.0307\n",
      "[ epoch:29, time:2.824176073074341 ]  acc: 0.9898  loss:0.0332\n",
      "[ epoch:30, time:2.6905479431152344 ]  acc: 0.9835  loss:0.0471\n",
      "[ epoch:31, time:2.6446609497070312 ]  acc: 0.9887  loss:0.0326\n",
      "[ epoch:32, time:2.639431953430176 ]  acc: 0.9938  loss:0.0223\n",
      "[ epoch:33, time:2.664642095565796 ]  acc: 0.9953  loss:0.0139\n",
      "[ epoch:34, time:2.619124174118042 ]  acc: 0.9898  loss:0.0315\n",
      "[ epoch:35, time:2.6280760765075684 ]  acc: 0.9940  loss:0.0178\n",
      "[ epoch:36, time:2.6264803409576416 ]  acc: 0.9900  loss:0.0300\n",
      "[ epoch:37, time:2.6637721061706543 ]  acc: 0.9929  loss:0.0231\n",
      "[ epoch:38, time:2.650630235671997 ]  acc: 0.9962  loss:0.0122\n",
      "[ epoch:39, time:2.6132209300994873 ]  acc: 0.9971  loss:0.0078\n",
      "[ epoch:40, time:2.6310830116271973 ]  acc: 0.9964  loss:0.0112\n",
      "[ epoch:41, time:2.8603601455688477 ]  acc: 0.9941  loss:0.0160\n",
      "[ epoch:42, time:3.172529935836792 ]  acc: 0.9959  loss:0.0111\n",
      "[ epoch:43, time:3.1665091514587402 ]  acc: 0.9977  loss:0.0061\n",
      "[ epoch:44, time:3.0647950172424316 ]  acc: 0.9985  loss:0.0041\n",
      "[ epoch:45, time:3.0637388229370117 ]  acc: 0.9974  loss:0.0089\n",
      "[ epoch:46, time:3.1743686199188232 ]  acc: 0.9984  loss:0.0039\n",
      "[ epoch:47, time:3.141615867614746 ]  acc: 0.9983  loss:0.0041\n",
      "[ epoch:48, time:3.5938010215759277 ]  acc: 0.9980  loss:0.0047\n",
      "[ epoch:49, time:3.2283999919891357 ]  acc: 0.9986  loss:0.0036\n",
      "[ epoch:50, time:2.938998222351074 ]  acc: 0.9986  loss:0.0030\n",
      "[ epoch:51, time:2.744554042816162 ]  acc: 0.9980  loss:0.0033\n",
      "[ epoch:52, time:2.640065908432007 ]  acc: 0.9986  loss:0.0024\n",
      "[ epoch:53, time:2.6437430381774902 ]  acc: 0.9987  loss:0.0022\n",
      "[ epoch:54, time:2.635673761367798 ]  acc: 0.9987  loss:0.0023\n",
      "[ epoch:55, time:2.6803171634674072 ]  acc: 0.9989  loss:0.0022\n",
      "[ epoch:56, time:2.759212017059326 ]  acc: 0.9987  loss:0.0025\n",
      "[ epoch:57, time:2.8145337104797363 ]  acc: 0.9985  loss:0.0023\n",
      "[ epoch:58, time:2.782494068145752 ]  acc: 0.9989  loss:0.0025\n",
      "[ epoch:59, time:2.739129066467285 ]  acc: 0.9984  loss:0.0023\n",
      "[ epoch:60, time:2.7765157222747803 ]  acc: 0.9986  loss:0.0024\n",
      "[ epoch:61, time:2.757193088531494 ]  acc: 0.9983  loss:0.0041\n",
      "[ epoch:62, time:2.7129580974578857 ]  acc: 0.9979  loss:0.0037\n",
      "[ epoch:63, time:2.7697768211364746 ]  acc: 0.9989  loss:0.0023\n",
      "[ epoch:64, time:2.7210028171539307 ]  acc: 0.9989  loss:0.0021\n",
      "[ epoch:65, time:2.712074041366577 ]  acc: 0.9986  loss:0.0023\n",
      "[ epoch:66, time:2.70854115486145 ]  acc: 0.9986  loss:0.0023\n",
      "[ epoch:67, time:2.730151891708374 ]  acc: 0.9986  loss:0.0022\n",
      "[ epoch:68, time:2.6814322471618652 ]  acc: 0.9987  loss:0.0021\n",
      "[ epoch:69, time:2.757913112640381 ]  acc: 0.9987  loss:0.0024\n",
      "[ epoch:70, time:2.700969934463501 ]  acc: 0.9984  loss:0.0022\n",
      "[ epoch:71, time:2.687479019165039 ]  acc: 0.9985  loss:0.0021\n",
      "[ epoch:72, time:2.6531999111175537 ]  acc: 0.9987  loss:0.0021\n",
      "[ epoch:73, time:2.6660959720611572 ]  acc: 0.9985  loss:0.0021\n",
      "[ epoch:74, time:2.73445987701416 ]  acc: 0.9987  loss:0.0021\n"
     ]
    }
   ],
   "source": [
    "model.fit(x_feature, y_train)"
   ]
  },
  {
   "cell_type": "code",
   "execution_count": null,
   "metadata": {},
   "outputs": [],
   "source": [
    "model.evaluate(x_feature.float(), torch.tensor(y_train))\n",
    "model.evaluate(torch.tensor(vec2sum(x_valid, dim), requires_grad = True).float(), torch.tensor(y_valid))"
   ]
  },
  {
   "cell_type": "code",
   "execution_count": null,
   "metadata": {},
   "outputs": [],
   "source": [
    "model.visualize()"
   ]
  },
  {
   "cell_type": "code",
   "execution_count": null,
   "metadata": {},
   "outputs": [],
   "source": []
  }
 ],
 "metadata": {
  "kernelspec": {
   "display_name": "Python 3",
   "language": "python",
   "name": "python3"
  },
  "language_info": {
   "codemirror_mode": {
    "name": "ipython",
    "version": 3
   },
   "file_extension": ".py",
   "mimetype": "text/x-python",
   "name": "python",
   "nbconvert_exporter": "python",
   "pygments_lexer": "ipython3",
   "version": "3.7.3"
  }
 },
 "nbformat": 4,
 "nbformat_minor": 2
}
