{
 "cells": [
  {
   "cell_type": "code",
   "execution_count": 1,
   "metadata": {},
   "outputs": [],
   "source": [
    "import numpy as np\n",
    "import re"
   ]
  },
  {
   "cell_type": "code",
   "execution_count": 2,
   "metadata": {},
   "outputs": [],
   "source": [
    "# ロードしたデータを訓練データ用のStringと正解ラベルに分ける\n",
    "def split_vector(data):\n",
    "    dic = {'b':0, 't':1, 'e':2, 'm':3}\n",
    "    y = np.zeros(len(data) - 1)\n",
    "    x = []\n",
    "    for i, d in enumerate(data):\n",
    "        if i == len(data) - 1:\n",
    "            break\n",
    "        y[i] = dic[d[0]]\n",
    "        x.append(d[1])\n",
    "    \n",
    "    return (x, y.astype(np.uint8))"
   ]
  },
  {
   "cell_type": "code",
   "execution_count": 3,
   "metadata": {},
   "outputs": [
    {
     "name": "stdout",
     "output_type": "stream",
     "text": [
      "8708 (8708,)\n",
      "1089 (1089,)\n",
      "1088 (1088,)\n"
     ]
    }
   ],
   "source": [
    "# 70\n",
    "file_path = 'data/NewsAggregatorDataset/'\n",
    "\n",
    "with open(file_path + 'train.txt') as f:\n",
    "    train_data = f.read().split('\\n')\n",
    "x_train, y_train = split_vector([d.split('\\t') for d in train_data])\n",
    "print(len(x_train), y_train.shape)\n",
    "\n",
    "with open(file_path + 'test.txt') as f:\n",
    "    test_data = f.read().split('\\n')\n",
    "x_test, y_test = split_vector([d.split('\\t') for d in test_data])\n",
    "print(len(x_test), y_test.shape)\n",
    "\n",
    "with open(file_path + 'valid.txt') as f:\n",
    "    valid_data = f.read().split('\\n')\n",
    "x_valid, y_valid = split_vector([d.split('\\t') for d in valid_data])\n",
    "print(len(x_valid), y_valid.shape)"
   ]
  },
  {
   "cell_type": "code",
   "execution_count": 4,
   "metadata": {},
   "outputs": [],
   "source": [
    "from gensim.models import KeyedVectors\n",
    "news_path = 'data/GoogleNews-vectors-negative300.bin'\n",
    "words = KeyedVectors.load_word2vec_format(news_path, binary = True)"
   ]
  },
  {
   "cell_type": "code",
   "execution_count": 5,
   "metadata": {},
   "outputs": [],
   "source": [
    "def vec2sum(x_data, dim):\n",
    "    pattern = re.compile(r'[a-z|A-Z]+', re.MULTILINE + re.VERBOSE)  \n",
    "    vector_sum = np.zeros((len(x_data), dim))\n",
    "    for i, s in enumerate(x_data):\n",
    "        vector = np.zeros(dim) \n",
    "        cnt = 0\n",
    "        ss = pattern.findall(s)\n",
    "        for noun in ss:\n",
    "            try :\n",
    "                cnt += 1\n",
    "                vector += words[noun]\n",
    "            except KeyError as error:\n",
    "                continue\n",
    "        if cnt == 0:\n",
    "            continue\n",
    "        vector_sum[i] = (vector / cnt)\n",
    "\n",
    "    return vector_sum"
   ]
  },
  {
   "cell_type": "code",
   "execution_count": 6,
   "metadata": {},
   "outputs": [
    {
     "name": "stdout",
     "output_type": "stream",
     "text": [
      "8708\n",
      "(8708, 300)\n"
     ]
    }
   ],
   "source": [
    "x_feature = vec2sum(x_train, 300)\n",
    "print(len(x_train))\n",
    "print(x_feature.shape)\n"
   ]
  },
  {
   "cell_type": "code",
   "execution_count": 7,
   "metadata": {},
   "outputs": [],
   "source": [
    "import torch\n",
    "import torch.nn as nn\n",
    "import torch.nn.functional as func\n",
    "import torch.optim as optim\n",
    "from torch.autograd import Variable\n",
    "dim = words['US'].shape[0] # 単語ベクトルの次元"
   ]
  },
  {
   "cell_type": "code",
   "execution_count": 8,
   "metadata": {},
   "outputs": [
    {
     "name": "stdout",
     "output_type": "stream",
     "text": [
      "tensor([[0.2101, 0.1099, 0.4896, 0.1904]], grad_fn=<SoftmaxBackward>)\n"
     ]
    },
    {
     "name": "stderr",
     "output_type": "stream",
     "text": [
      "/Users/taimu/yes/lib/python3.7/site-packages/ipykernel_launcher.py:4: UserWarning: Implicit dimension choice for softmax has been deprecated. Change the call to include dim=X as an argument.\n",
      "  after removing the cwd from sys.path.\n"
     ]
    }
   ],
   "source": [
    "# 71\n",
    "w = torch.randn(dim, 4, requires_grad = True)\n",
    "x_feature = torch.tensor(x_feature, requires_grad = True)\n",
    "y = func.softmax(torch.matmul(x_feature[:1].float(), w))\n",
    "\n",
    "print(y)\n"
   ]
  },
  {
   "cell_type": "code",
   "execution_count": 9,
   "metadata": {},
   "outputs": [
    {
     "name": "stdout",
     "output_type": "stream",
     "text": [
      "tensor([[0.2101, 0.1099, 0.4896, 0.1904],\n",
      "        [0.0282, 0.0713, 0.8676, 0.0328],\n",
      "        [0.1484, 0.2994, 0.4518, 0.1005],\n",
      "        [0.2162, 0.0345, 0.6334, 0.1159]], grad_fn=<SoftmaxBackward>)\n"
     ]
    }
   ],
   "source": [
    "# 複数事例\n",
    "Y = func.softmax(torch.mm(x_feature[:4].float(), w), dim = 1)\n",
    "print(Y)"
   ]
  },
  {
   "cell_type": "code",
   "execution_count": 10,
   "metadata": {},
   "outputs": [
    {
     "name": "stdout",
     "output_type": "stream",
     "text": [
      "tensor(0.7142, grad_fn=<NllLossBackward>)\n",
      "tensor([[-0.0035, -0.0018,  0.0086, -0.0032],\n",
      "        [ 0.0234,  0.0122, -0.0569,  0.0212],\n",
      "        [-0.0027, -0.0014,  0.0066, -0.0025],\n",
      "        ...,\n",
      "        [-0.0181, -0.0095,  0.0439, -0.0164],\n",
      "        [-0.0068, -0.0035,  0.0165, -0.0061],\n",
      "        [-0.0031, -0.0016,  0.0075, -0.0028]])\n",
      "tensor(1.8079, grad_fn=<NllLossBackward>)\n",
      "tensor([[-2.5401e-02,  9.0519e-03,  2.6699e-02, -1.0349e-02],\n",
      "        [ 5.8273e-05,  2.4451e-02, -5.9702e-02,  3.5192e-02],\n",
      "        [ 1.0362e-02, -3.7857e-03, -2.9207e-03, -3.6552e-03],\n",
      "        ...,\n",
      "        [-2.8388e-02, -7.2523e-03,  7.3001e-02, -3.7360e-02],\n",
      "        [-6.5748e-03, -1.3002e-03,  2.1948e-02, -1.4073e-02],\n",
      "        [ 1.5427e-02, -7.2951e-03,  1.2897e-02, -2.1029e-02]])\n",
      "1.8078829358594413\n"
     ]
    }
   ],
   "source": [
    "from math import exp, log\n",
    "\n",
    "criterion = nn.CrossEntropyLoss()\n",
    "y_train = torch.tensor(y_train.astype(float), requires_grad = True)\n",
    "\n",
    "# 単体事例\n",
    "y_ = criterion(torch.mm(x_feature[:1].float(), w), y_train[:1].long())\n",
    "print(y_)\n",
    "y_.backward()\n",
    "print(w.grad)\n",
    "\n",
    "# 複数事例\n",
    "Y_ = criterion(torch.mm(x_feature[:4].float(), w), y_train[:4].long())\n",
    "print(Y_)\n",
    "Y_.backward()\n",
    "print(w.grad)\n",
    "\n",
    "# 検算\n",
    "ans = []\n",
    "for yy, i in zip(Y, y_train[:4].long()):\n",
    "    ans.append(-log(yy[i]))\n",
    "print(sum(ans) / len(ans))"
   ]
  },
  {
   "cell_type": "code",
   "execution_count": 11,
   "metadata": {},
   "outputs": [],
   "source": [
    "import time\n",
    "import matplotlib.pyplot as plt\n",
    "%matplotlib inline"
   ]
  },
  {
   "cell_type": "code",
   "execution_count": 12,
   "metadata": {},
   "outputs": [],
   "source": [
    "class MyNet(nn.Module):\n",
    "    def __init__(self, input_size):\n",
    "        super(MyNet, self).__init__()\n",
    "        self.fc1 = torch.nn.Linear(input_size, 4)\n",
    "        \n",
    "    def forward(self, x):\n",
    "        x = self.fc1(x)\n",
    "        return x"
   ]
  },
  {
   "cell_type": "code",
   "execution_count": 13,
   "metadata": {},
   "outputs": [],
   "source": [
    "mynet = MyNet(dim)\n",
    "optimizer = optim.SGD(mynet.parameters(), lr = 0.01, momentum = 0.9)\n",
    "num_epochs = 100\n",
    "save_path = '../data/params.tar'"
   ]
  },
  {
   "cell_type": "code",
   "execution_count": 14,
   "metadata": {},
   "outputs": [],
   "source": [
    "class Model():\n",
    "    def __init__(self, model):\n",
    "        self.model = model\n",
    "        \n",
    "    def set_params(self, num_epochs, num_batches, optimizer, criterion):\n",
    "        # エポック数，バッチサイズ，最適化アルゴリズム，損失関数の初期化\n",
    "        self.num_epochs = num_epochs\n",
    "        self.num_batches = num_batches\n",
    "        self.optimizer = optimizer\n",
    "        self.criterion = criterion\n",
    "        \n",
    "        # epoch毎の損失と精度を保持するリスト\n",
    "        self.losses = np.zeros(num_epochs)\n",
    "        self.accs = np.zeros(num_epochs)\n",
    "\n",
    "    def fit(self, x_train, y_train):\n",
    "        num_data = x_train.shape[0]\n",
    "        for epoch in range(self.num_epochs):\n",
    "\n",
    "            # epoch毎の損失と精度\n",
    "            running_loss = 0.0\n",
    "            accuracy = 0.0\n",
    "\n",
    "            # 開始時間\n",
    "            t = time.time()\n",
    "\n",
    "            # ミニバッチ学習のために訓練データのインデックスをランダムに並べ替える\n",
    "            index = np.random.permutation(num_data)\n",
    "\n",
    "            for i in range(0, num_data, self.num_batches):\n",
    "                # NNへの入力と正解ラベル\n",
    "                in_, label = torch.tensor(x_train[index[i : i + self.num_batches if i + self.num_batches < num_data else num_data]]), \\\n",
    "                             torch.tensor(y_train[index[i : i + self.num_batches if i + self.num_batches < num_data else num_data]]).long()\n",
    "\n",
    "                # 最適化関数の初期化\n",
    "                self.optimizer.zero_grad()\n",
    "\n",
    "                # 予測とロスの計算\n",
    "                out_ = self.model(in_.float())\n",
    "                loss = self.criterion(out_, label)\n",
    "\n",
    "                _, idx = torch.max(out_, 1)\n",
    "\n",
    "                # バッチ数のラベルが出てくるので，いくつ正解しているかカウント\n",
    "                cnt = 0\n",
    "                for i in range(idx.shape[0]):\n",
    "                    if idx[i] == label[i]:\n",
    "                        cnt += 1\n",
    "                accuracy += cnt / idx.shape[0]\n",
    "\n",
    "                # パラメーターの更新\n",
    "                loss.backward()\n",
    "                optimizer.step()\n",
    "                running_loss += loss.data\n",
    "\n",
    "            # 各種データの出力・保存\n",
    "            num_loop = num_data / self.num_batches\n",
    "            accuracy /= num_loop\n",
    "            loss = running_loss / num_loop\n",
    "            print('[ epoch:{0}, time:{3} ]  acc: {1:.4f}  loss:{2:.4f}'.format(epoch + 1, accuracy, loss, time.time() - t))\n",
    "            self.accs[epoch] = accuracy\n",
    "            self.losses[epoch] = loss\n",
    " \n",
    "            # 状況の保存\n",
    "            torch.save({\n",
    "              'epoch': epoch,\n",
    "              'model_state_dict': self.model.state_dict(),\n",
    "              'optimizer_state_dict': self.optimizer.state_dict(),\n",
    "              'loss': loss,\n",
    "              'accuracy': accuracy,\n",
    "              }, save_path)\n",
    "    \n",
    "    def predict(self, x):\n",
    "        out_ = self.model(x)\n",
    "        return out_\n",
    "    \n",
    "    def evaluate(self, x, y):\n",
    "        p = self.predict(x)\n",
    "        _, idx = torch.max(p, 1)\n",
    "        cnt = 0\n",
    "        for i in range(idx.shape[0]):\n",
    "            if idx[i] == y[i]:\n",
    "                cnt += 1\n",
    "        accuracy = cnt / idx.shape[0]\n",
    "        \n",
    "        return accuracy\n",
    "    \n",
    "    def visualize(self):\n",
    "        x = np.arange(len(self.accs))\n",
    "        fig = plt.figure()\n",
    "        ax = fig.add_subplot(211)\n",
    "        ax.plot(x, self.accs, color = 'red', linewidth = 2, label = 'accuracy')\n",
    "        ax2 = fig.add_subplot(212)\n",
    "        ax2.plot(x, self.losses, color = 'green', linewidth = 2, label = 'loss')\n",
    "        ax.legend()\n",
    "        ax2.legend()\n",
    "        plt.plot()\n",
    "    "
   ]
  },
  {
   "cell_type": "code",
   "execution_count": 15,
   "metadata": {},
   "outputs": [],
   "source": [
    "model = Model(mynet)\n",
    "model.set_params(num_epochs, 1, optimizer, criterion)"
   ]
  },
  {
   "cell_type": "code",
   "execution_count": 16,
   "metadata": {
    "scrolled": true
   },
   "outputs": [
    {
     "name": "stderr",
     "output_type": "stream",
     "text": [
      "/Users/taimu/yes/lib/python3.7/site-packages/ipykernel_launcher.py:32: UserWarning: To copy construct from a tensor, it is recommended to use sourceTensor.clone().detach() or sourceTensor.clone().detach().requires_grad_(True), rather than torch.tensor(sourceTensor).\n",
      "/Users/taimu/yes/lib/python3.7/site-packages/ipykernel_launcher.py:33: UserWarning: To copy construct from a tensor, it is recommended to use sourceTensor.clone().detach() or sourceTensor.clone().detach().requires_grad_(True), rather than torch.tensor(sourceTensor).\n"
     ]
    },
    {
     "name": "stdout",
     "output_type": "stream",
     "text": [
      "[ epoch:1, time:2.60729718208313 ]  acc: 0.8746  loss:0.3750\n",
      "[ epoch:2, time:2.5130889415740967 ]  acc: 0.9112  loss:0.2622\n",
      "[ epoch:3, time:2.541531801223755 ]  acc: 0.9167  loss:0.2416\n",
      "[ epoch:4, time:2.503795862197876 ]  acc: 0.9213  loss:0.2288\n",
      "[ epoch:5, time:2.58841609954834 ]  acc: 0.9217  loss:0.2200\n",
      "[ epoch:6, time:2.6453371047973633 ]  acc: 0.9271  loss:0.2146\n",
      "[ epoch:7, time:2.6515591144561768 ]  acc: 0.9258  loss:0.2094\n",
      "[ epoch:8, time:2.6174979209899902 ]  acc: 0.9302  loss:0.2045\n",
      "[ epoch:9, time:2.670179843902588 ]  acc: 0.9295  loss:0.2020\n",
      "[ epoch:10, time:2.6888248920440674 ]  acc: 0.9308  loss:0.1973\n",
      "[ epoch:11, time:2.6032052040100098 ]  acc: 0.9308  loss:0.1956\n",
      "[ epoch:12, time:2.9106197357177734 ]  acc: 0.9310  loss:0.1945\n",
      "[ epoch:13, time:2.7122268676757812 ]  acc: 0.9320  loss:0.1922\n",
      "[ epoch:14, time:2.6172149181365967 ]  acc: 0.9329  loss:0.1901\n",
      "[ epoch:15, time:2.604681968688965 ]  acc: 0.9353  loss:0.1888\n",
      "[ epoch:16, time:2.682664155960083 ]  acc: 0.9337  loss:0.1877\n",
      "[ epoch:17, time:2.5747148990631104 ]  acc: 0.9353  loss:0.1856\n",
      "[ epoch:18, time:2.549191951751709 ]  acc: 0.9335  loss:0.1847\n",
      "[ epoch:19, time:2.5717198848724365 ]  acc: 0.9363  loss:0.1841\n",
      "[ epoch:20, time:2.549353837966919 ]  acc: 0.9348  loss:0.1834\n",
      "[ epoch:21, time:2.5530779361724854 ]  acc: 0.9353  loss:0.1819\n",
      "[ epoch:22, time:2.536832094192505 ]  acc: 0.9370  loss:0.1802\n",
      "[ epoch:23, time:2.587769031524658 ]  acc: 0.9356  loss:0.1801\n",
      "[ epoch:24, time:2.5417001247406006 ]  acc: 0.9380  loss:0.1790\n",
      "[ epoch:25, time:2.551783323287964 ]  acc: 0.9381  loss:0.1780\n",
      "[ epoch:26, time:2.541809320449829 ]  acc: 0.9363  loss:0.1776\n",
      "[ epoch:27, time:2.5380518436431885 ]  acc: 0.9375  loss:0.1772\n",
      "[ epoch:28, time:2.541724920272827 ]  acc: 0.9365  loss:0.1765\n",
      "[ epoch:29, time:2.569019079208374 ]  acc: 0.9380  loss:0.1751\n",
      "[ epoch:30, time:2.5383129119873047 ]  acc: 0.9374  loss:0.1754\n",
      "[ epoch:31, time:2.5319108963012695 ]  acc: 0.9371  loss:0.1745\n",
      "[ epoch:32, time:2.5345191955566406 ]  acc: 0.9386  loss:0.1741\n",
      "[ epoch:33, time:2.520629405975342 ]  acc: 0.9380  loss:0.1734\n",
      "[ epoch:34, time:2.531039237976074 ]  acc: 0.9395  loss:0.1735\n",
      "[ epoch:35, time:2.5189218521118164 ]  acc: 0.9406  loss:0.1721\n",
      "[ epoch:36, time:2.531790018081665 ]  acc: 0.9396  loss:0.1712\n",
      "[ epoch:37, time:2.5171730518341064 ]  acc: 0.9403  loss:0.1729\n",
      "[ epoch:38, time:2.524825096130371 ]  acc: 0.9381  loss:0.1714\n",
      "[ epoch:39, time:2.5163309574127197 ]  acc: 0.9384  loss:0.1715\n",
      "[ epoch:40, time:2.5071518421173096 ]  acc: 0.9411  loss:0.1717\n",
      "[ epoch:41, time:2.55757212638855 ]  acc: 0.9401  loss:0.1708\n",
      "[ epoch:42, time:2.5292491912841797 ]  acc: 0.9406  loss:0.1698\n",
      "[ epoch:43, time:2.492396116256714 ]  acc: 0.9389  loss:0.1707\n",
      "[ epoch:44, time:2.5319440364837646 ]  acc: 0.9403  loss:0.1693\n",
      "[ epoch:45, time:2.4827420711517334 ]  acc: 0.9383  loss:0.1694\n",
      "[ epoch:46, time:2.4948410987854004 ]  acc: 0.9414  loss:0.1689\n",
      "[ epoch:47, time:2.5056512355804443 ]  acc: 0.9410  loss:0.1691\n",
      "[ epoch:48, time:2.498891830444336 ]  acc: 0.9403  loss:0.1682\n",
      "[ epoch:49, time:2.4925267696380615 ]  acc: 0.9402  loss:0.1694\n",
      "[ epoch:50, time:2.4854910373687744 ]  acc: 0.9399  loss:0.1683\n",
      "[ epoch:51, time:2.607023239135742 ]  acc: 0.9414  loss:0.1673\n",
      "[ epoch:52, time:2.5162060260772705 ]  acc: 0.9388  loss:0.1682\n",
      "[ epoch:53, time:2.5882010459899902 ]  acc: 0.9396  loss:0.1674\n",
      "[ epoch:54, time:2.5527689456939697 ]  acc: 0.9406  loss:0.1672\n",
      "[ epoch:55, time:2.5694620609283447 ]  acc: 0.9393  loss:0.1662\n",
      "[ epoch:56, time:2.5414798259735107 ]  acc: 0.9398  loss:0.1672\n",
      "[ epoch:57, time:2.547436237335205 ]  acc: 0.9414  loss:0.1665\n",
      "[ epoch:58, time:2.5456619262695312 ]  acc: 0.9414  loss:0.1669\n",
      "[ epoch:59, time:2.559593915939331 ]  acc: 0.9397  loss:0.1664\n",
      "[ epoch:60, time:2.537233829498291 ]  acc: 0.9435  loss:0.1654\n",
      "[ epoch:61, time:2.5454039573669434 ]  acc: 0.9421  loss:0.1661\n",
      "[ epoch:62, time:2.5523428916931152 ]  acc: 0.9425  loss:0.1644\n",
      "[ epoch:63, time:2.5463809967041016 ]  acc: 0.9432  loss:0.1651\n",
      "[ epoch:64, time:2.537477731704712 ]  acc: 0.9420  loss:0.1652\n",
      "[ epoch:65, time:2.498434066772461 ]  acc: 0.9410  loss:0.1651\n",
      "[ epoch:66, time:2.485156297683716 ]  acc: 0.9383  loss:0.1655\n",
      "[ epoch:67, time:2.470914840698242 ]  acc: 0.9425  loss:0.1646\n",
      "[ epoch:68, time:2.4709110260009766 ]  acc: 0.9428  loss:0.1631\n",
      "[ epoch:69, time:2.487761974334717 ]  acc: 0.9421  loss:0.1647\n",
      "[ epoch:70, time:2.4896740913391113 ]  acc: 0.9421  loss:0.1645\n",
      "[ epoch:71, time:2.5044732093811035 ]  acc: 0.9425  loss:0.1641\n",
      "[ epoch:72, time:2.495164155960083 ]  acc: 0.9420  loss:0.1641\n",
      "[ epoch:73, time:2.484027862548828 ]  acc: 0.9421  loss:0.1640\n",
      "[ epoch:74, time:2.493779182434082 ]  acc: 0.9412  loss:0.1639\n",
      "[ epoch:75, time:2.4929451942443848 ]  acc: 0.9424  loss:0.1628\n",
      "[ epoch:76, time:2.490004062652588 ]  acc: 0.9401  loss:0.1634\n",
      "[ epoch:77, time:2.503770112991333 ]  acc: 0.9429  loss:0.1635\n",
      "[ epoch:78, time:2.4966211318969727 ]  acc: 0.9420  loss:0.1625\n",
      "[ epoch:79, time:2.5004899501800537 ]  acc: 0.9444  loss:0.1625\n",
      "[ epoch:80, time:2.477429151535034 ]  acc: 0.9430  loss:0.1624\n",
      "[ epoch:81, time:2.4758028984069824 ]  acc: 0.9419  loss:0.1632\n",
      "[ epoch:82, time:2.475658893585205 ]  acc: 0.9403  loss:0.1633\n",
      "[ epoch:83, time:2.5124590396881104 ]  acc: 0.9433  loss:0.1624\n",
      "[ epoch:84, time:2.5403287410736084 ]  acc: 0.9425  loss:0.1615\n",
      "[ epoch:85, time:2.538426160812378 ]  acc: 0.9428  loss:0.1615\n",
      "[ epoch:86, time:2.5372629165649414 ]  acc: 0.9436  loss:0.1618\n",
      "[ epoch:87, time:2.55045485496521 ]  acc: 0.9421  loss:0.1612\n",
      "[ epoch:88, time:2.5120797157287598 ]  acc: 0.9411  loss:0.1631\n",
      "[ epoch:89, time:2.4737322330474854 ]  acc: 0.9428  loss:0.1618\n",
      "[ epoch:90, time:2.4771950244903564 ]  acc: 0.9426  loss:0.1615\n",
      "[ epoch:91, time:2.486177921295166 ]  acc: 0.9421  loss:0.1621\n",
      "[ epoch:92, time:2.474682092666626 ]  acc: 0.9433  loss:0.1614\n",
      "[ epoch:93, time:2.4776430130004883 ]  acc: 0.9427  loss:0.1619\n",
      "[ epoch:94, time:2.4882569313049316 ]  acc: 0.9426  loss:0.1611\n",
      "[ epoch:95, time:2.5051891803741455 ]  acc: 0.9419  loss:0.1616\n",
      "[ epoch:96, time:2.491434097290039 ]  acc: 0.9419  loss:0.1611\n",
      "[ epoch:97, time:2.5024168491363525 ]  acc: 0.9426  loss:0.1613\n",
      "[ epoch:98, time:2.5104620456695557 ]  acc: 0.9428  loss:0.1610\n",
      "[ epoch:99, time:2.4950196743011475 ]  acc: 0.9429  loss:0.1608\n",
      "[ epoch:100, time:2.4880788326263428 ]  acc: 0.9438  loss:0.1613\n"
     ]
    }
   ],
   "source": [
    "model.fit(x_feature, y_train)"
   ]
  },
  {
   "cell_type": "code",
   "execution_count": 17,
   "metadata": {},
   "outputs": [
    {
     "data": {
      "text/plain": [
       "0.9440744143316491"
      ]
     },
     "execution_count": 17,
     "metadata": {},
     "output_type": "execute_result"
    }
   ],
   "source": [
    "model.evaluate(x_feature.float(), y_train)"
   ]
  },
  {
   "cell_type": "code",
   "execution_count": 18,
   "metadata": {},
   "outputs": [
    {
     "data": {
      "text/plain": [
       "0.921875"
      ]
     },
     "execution_count": 18,
     "metadata": {},
     "output_type": "execute_result"
    }
   ],
   "source": [
    "model.evaluate(torch.tensor(vec2sum(x_valid, dim)).float(), y_valid)"
   ]
  },
  {
   "cell_type": "code",
   "execution_count": 19,
   "metadata": {
    "scrolled": true
   },
   "outputs": [
    {
     "data": {
      "text/plain": [
       "0.9292929292929293"
      ]
     },
     "execution_count": 19,
     "metadata": {},
     "output_type": "execute_result"
    }
   ],
   "source": [
    "model.evaluate(torch.tensor(vec2sum(x_test, dim)).float(), y_test)"
   ]
  },
  {
   "cell_type": "code",
   "execution_count": 20,
   "metadata": {},
   "outputs": [
    {
     "data": {
      "image/png": "[encoded data removed]",
      "text/plain": [
       "<Figure size 432x288 with 2 Axes>"
      ]
     },
     "metadata": {
      "needs_background": "light"
     },
     "output_type": "display_data"
    }
   ],
   "source": [
    "model.visualize()"
   ]
  },
  {
   "cell_type": "code",
   "execution_count": 21,
   "metadata": {},
   "outputs": [],
   "source": [
    "model2 = Model(mynet)\n",
    "model2.set_params(num_epochs, 4, optimizer, criterion)"
   ]
  },
  {
   "cell_type": "code",
   "execution_count": 22,
   "metadata": {},
   "outputs": [
    {
     "name": "stderr",
     "output_type": "stream",
     "text": [
      "/Users/taimu/yes/lib/python3.7/site-packages/ipykernel_launcher.py:32: UserWarning: To copy construct from a tensor, it is recommended to use sourceTensor.clone().detach() or sourceTensor.clone().detach().requires_grad_(True), rather than torch.tensor(sourceTensor).\n",
      "/Users/taimu/yes/lib/python3.7/site-packages/ipykernel_launcher.py:33: UserWarning: To copy construct from a tensor, it is recommended to use sourceTensor.clone().detach() or sourceTensor.clone().detach().requires_grad_(True), rather than torch.tensor(sourceTensor).\n"
     ]
    },
    {
     "name": "stdout",
     "output_type": "stream",
     "text": [
      "[ epoch:1, time:0.7016558647155762 ]  acc: 0.9464  loss:0.1553\n",
      "[ epoch:2, time:0.6954078674316406 ]  acc: 0.9451  loss:0.1554\n",
      "[ epoch:3, time:0.692861795425415 ]  acc: 0.9455  loss:0.1551\n",
      "[ epoch:4, time:0.6954569816589355 ]  acc: 0.9464  loss:0.1550\n",
      "[ epoch:5, time:0.725492000579834 ]  acc: 0.9466  loss:0.1549\n",
      "[ epoch:6, time:0.714123010635376 ]  acc: 0.9463  loss:0.1551\n",
      "[ epoch:7, time:0.7157549858093262 ]  acc: 0.9453  loss:0.1552\n",
      "[ epoch:8, time:0.7153515815734863 ]  acc: 0.9448  loss:0.1550\n",
      "[ epoch:9, time:0.712878942489624 ]  acc: 0.9456  loss:0.1549\n",
      "[ epoch:10, time:0.7107789516448975 ]  acc: 0.9465  loss:0.1552\n",
      "[ epoch:11, time:0.712792158126831 ]  acc: 0.9463  loss:0.1550\n",
      "[ epoch:12, time:0.7167139053344727 ]  acc: 0.9461  loss:0.1551\n",
      "[ epoch:13, time:0.7162256240844727 ]  acc: 0.9458  loss:0.1548\n",
      "[ epoch:14, time:0.7138607501983643 ]  acc: 0.9465  loss:0.1550\n",
      "[ epoch:15, time:0.715705156326294 ]  acc: 0.9471  loss:0.1546\n",
      "[ epoch:16, time:0.7129809856414795 ]  acc: 0.9457  loss:0.1547\n",
      "[ epoch:17, time:0.7135601043701172 ]  acc: 0.9458  loss:0.1550\n",
      "[ epoch:18, time:0.7161867618560791 ]  acc: 0.9476  loss:0.1548\n",
      "[ epoch:19, time:0.7145757675170898 ]  acc: 0.9460  loss:0.1546\n",
      "[ epoch:20, time:0.7126100063323975 ]  acc: 0.9453  loss:0.1549\n",
      "[ epoch:21, time:0.7330670356750488 ]  acc: 0.9466  loss:0.1549\n",
      "[ epoch:22, time:0.7204740047454834 ]  acc: 0.9468  loss:0.1547\n",
      "[ epoch:23, time:0.719749927520752 ]  acc: 0.9458  loss:0.1543\n",
      "[ epoch:24, time:0.7113301753997803 ]  acc: 0.9463  loss:0.1547\n",
      "[ epoch:25, time:0.7134380340576172 ]  acc: 0.9453  loss:0.1546\n",
      "[ epoch:26, time:0.7136259078979492 ]  acc: 0.9473  loss:0.1548\n",
      "[ epoch:27, time:0.7093617916107178 ]  acc: 0.9446  loss:0.1547\n",
      "[ epoch:28, time:0.7151141166687012 ]  acc: 0.9463  loss:0.1548\n",
      "[ epoch:29, time:0.7162261009216309 ]  acc: 0.9452  loss:0.1547\n",
      "[ epoch:30, time:0.7242000102996826 ]  acc: 0.9459  loss:0.1548\n",
      "[ epoch:31, time:0.6946442127227783 ]  acc: 0.9452  loss:0.1544\n",
      "[ epoch:32, time:0.6930582523345947 ]  acc: 0.9458  loss:0.1546\n",
      "[ epoch:33, time:0.69476318359375 ]  acc: 0.9456  loss:0.1546\n",
      "[ epoch:34, time:0.6921689510345459 ]  acc: 0.9457  loss:0.1545\n",
      "[ epoch:35, time:0.69464111328125 ]  acc: 0.9460  loss:0.1546\n",
      "[ epoch:36, time:0.696678876876831 ]  acc: 0.9460  loss:0.1547\n",
      "[ epoch:37, time:0.6919331550598145 ]  acc: 0.9469  loss:0.1544\n",
      "[ epoch:38, time:0.693619966506958 ]  acc: 0.9450  loss:0.1545\n",
      "[ epoch:39, time:0.6943948268890381 ]  acc: 0.9464  loss:0.1544\n",
      "[ epoch:40, time:0.6927580833435059 ]  acc: 0.9453  loss:0.1543\n",
      "[ epoch:41, time:0.6867787837982178 ]  acc: 0.9458  loss:0.1545\n",
      "[ epoch:42, time:0.6916077136993408 ]  acc: 0.9467  loss:0.1542\n",
      "[ epoch:43, time:0.6942799091339111 ]  acc: 0.9471  loss:0.1543\n",
      "[ epoch:44, time:0.6915628910064697 ]  acc: 0.9453  loss:0.1543\n",
      "[ epoch:45, time:0.6928179264068604 ]  acc: 0.9456  loss:0.1544\n",
      "[ epoch:46, time:0.6972410678863525 ]  acc: 0.9457  loss:0.1539\n",
      "[ epoch:47, time:0.6956071853637695 ]  acc: 0.9450  loss:0.1546\n",
      "[ epoch:48, time:0.6950740814208984 ]  acc: 0.9450  loss:0.1536\n",
      "[ epoch:49, time:0.69793701171875 ]  acc: 0.9460  loss:0.1545\n",
      "[ epoch:50, time:0.6932082176208496 ]  acc: 0.9456  loss:0.1544\n",
      "[ epoch:51, time:0.6895227432250977 ]  acc: 0.9455  loss:0.1541\n",
      "[ epoch:52, time:0.6928689479827881 ]  acc: 0.9472  loss:0.1543\n",
      "[ epoch:53, time:0.6916191577911377 ]  acc: 0.9471  loss:0.1544\n",
      "[ epoch:54, time:0.6913771629333496 ]  acc: 0.9464  loss:0.1545\n",
      "[ epoch:55, time:0.6935601234436035 ]  acc: 0.9458  loss:0.1541\n",
      "[ epoch:56, time:0.692349910736084 ]  acc: 0.9468  loss:0.1539\n",
      "[ epoch:57, time:0.6891350746154785 ]  acc: 0.9464  loss:0.1544\n",
      "[ epoch:58, time:0.6904380321502686 ]  acc: 0.9463  loss:0.1540\n",
      "[ epoch:59, time:0.6929769515991211 ]  acc: 0.9465  loss:0.1539\n",
      "[ epoch:60, time:0.6871516704559326 ]  acc: 0.9445  loss:0.1543\n",
      "[ epoch:61, time:0.6931030750274658 ]  acc: 0.9458  loss:0.1541\n",
      "[ epoch:62, time:0.6937787532806396 ]  acc: 0.9456  loss:0.1540\n",
      "[ epoch:63, time:0.6916048526763916 ]  acc: 0.9460  loss:0.1541\n",
      "[ epoch:64, time:0.6941137313842773 ]  acc: 0.9457  loss:0.1539\n",
      "[ epoch:65, time:0.6982471942901611 ]  acc: 0.9458  loss:0.1542\n",
      "[ epoch:66, time:0.6934590339660645 ]  acc: 0.9467  loss:0.1538\n",
      "[ epoch:67, time:0.6915199756622314 ]  acc: 0.9455  loss:0.1534\n",
      "[ epoch:68, time:0.6998579502105713 ]  acc: 0.9453  loss:0.1542\n",
      "[ epoch:69, time:0.690593957901001 ]  acc: 0.9459  loss:0.1538\n",
      "[ epoch:70, time:0.6920371055603027 ]  acc: 0.9458  loss:0.1538\n",
      "[ epoch:71, time:0.6966159343719482 ]  acc: 0.9471  loss:0.1542\n",
      "[ epoch:72, time:0.6941850185394287 ]  acc: 0.9467  loss:0.1538\n",
      "[ epoch:73, time:0.6970019340515137 ]  acc: 0.9460  loss:0.1541\n",
      "[ epoch:74, time:0.6923160552978516 ]  acc: 0.9464  loss:0.1542\n",
      "[ epoch:75, time:0.6992011070251465 ]  acc: 0.9453  loss:0.1531\n",
      "[ epoch:76, time:0.6913809776306152 ]  acc: 0.9458  loss:0.1539\n",
      "[ epoch:77, time:0.693500280380249 ]  acc: 0.9458  loss:0.1537\n",
      "[ epoch:78, time:0.6942579746246338 ]  acc: 0.9466  loss:0.1537\n",
      "[ epoch:79, time:0.6934468746185303 ]  acc: 0.9463  loss:0.1542\n",
      "[ epoch:80, time:0.691403865814209 ]  acc: 0.9463  loss:0.1539\n",
      "[ epoch:81, time:0.6954338550567627 ]  acc: 0.9464  loss:0.1536\n",
      "[ epoch:82, time:0.6904230117797852 ]  acc: 0.9460  loss:0.1538\n",
      "[ epoch:83, time:0.6920342445373535 ]  acc: 0.9461  loss:0.1538\n",
      "[ epoch:84, time:0.6901471614837646 ]  acc: 0.9461  loss:0.1539\n",
      "[ epoch:85, time:0.6918931007385254 ]  acc: 0.9457  loss:0.1535\n",
      "[ epoch:86, time:0.6919078826904297 ]  acc: 0.9468  loss:0.1536\n",
      "[ epoch:87, time:0.6948769092559814 ]  acc: 0.9469  loss:0.1536\n",
      "[ epoch:88, time:0.6929330825805664 ]  acc: 0.9475  loss:0.1534\n",
      "[ epoch:89, time:0.693605899810791 ]  acc: 0.9457  loss:0.1538\n",
      "[ epoch:90, time:0.6952831745147705 ]  acc: 0.9468  loss:0.1537\n",
      "[ epoch:91, time:0.694237232208252 ]  acc: 0.9460  loss:0.1534\n",
      "[ epoch:92, time:0.693932056427002 ]  acc: 0.9460  loss:0.1536\n",
      "[ epoch:93, time:0.6918747425079346 ]  acc: 0.9471  loss:0.1536\n",
      "[ epoch:94, time:0.6922779083251953 ]  acc: 0.9453  loss:0.1537\n",
      "[ epoch:95, time:0.6880440711975098 ]  acc: 0.9464  loss:0.1537\n",
      "[ epoch:96, time:0.6900720596313477 ]  acc: 0.9457  loss:0.1537\n",
      "[ epoch:97, time:0.693955659866333 ]  acc: 0.9460  loss:0.1534\n",
      "[ epoch:98, time:0.6947169303894043 ]  acc: 0.9464  loss:0.1536\n",
      "[ epoch:99, time:0.6920897960662842 ]  acc: 0.9476  loss:0.1535\n",
      "[ epoch:100, time:0.6935431957244873 ]  acc: 0.9455  loss:0.1537\n"
     ]
    }
   ],
   "source": [
    "model2.fit(x_feature, y_train)"
   ]
  },
  {
   "cell_type": "code",
   "execution_count": 23,
   "metadata": {},
   "outputs": [],
   "source": [
    "class MyNet2(nn.Module):\n",
    "    def __init__(self, input_size, h_size, output_size):\n",
    "        super(MyNet2, self).__init__()\n",
    "        self.fc1 = torch.nn.Linear(input_size, h_size)\n",
    "        self.fc2 = torch.nn.Linear(h_size, int(h_size / 2))\n",
    "        self.fc3 = torch.nn.Linear(int(h_size / 2), output_size)\n",
    "        \n",
    "    def forward(self, x):\n",
    "        x = self.fc1(x)\n",
    "        x = func.relu(x)\n",
    "        x = self.fc2(x)\n",
    "        x = func.relu(x)\n",
    "        x = self.fc3(x)\n",
    "        return x"
   ]
  },
  {
   "cell_type": "code",
   "execution_count": 24,
   "metadata": {},
   "outputs": [],
   "source": [
    "mynet = MyNet2(dim, 100, 4)\n",
    "optimizer = optim.SGD(mynet.parameters(), lr = 0.01, momentum = 0.9)\n",
    "criterion = torch.nn.CrossEntropyLoss()\n",
    "save_path = '../data/params.tar'\n",
    "\n",
    "model = Model(mynet)\n",
    "model.set_params(num_epochs, 2, optimizer, criterion)"
   ]
  },
  {
   "cell_type": "code",
   "execution_count": 25,
   "metadata": {},
   "outputs": [
    {
     "name": "stderr",
     "output_type": "stream",
     "text": [
      "/Users/taimu/yes/lib/python3.7/site-packages/ipykernel_launcher.py:32: UserWarning: To copy construct from a tensor, it is recommended to use sourceTensor.clone().detach() or sourceTensor.clone().detach().requires_grad_(True), rather than torch.tensor(sourceTensor).\n",
      "/Users/taimu/yes/lib/python3.7/site-packages/ipykernel_launcher.py:33: UserWarning: To copy construct from a tensor, it is recommended to use sourceTensor.clone().detach() or sourceTensor.clone().detach().requires_grad_(True), rather than torch.tensor(sourceTensor).\n"
     ]
    },
    {
     "name": "stdout",
     "output_type": "stream",
     "text": [
      "[ epoch:1, time:2.5642709732055664 ]  acc: 0.8528  loss:0.4188\n",
      "[ epoch:2, time:2.5996220111846924 ]  acc: 0.9057  loss:0.2720\n",
      "[ epoch:3, time:2.6187350749969482 ]  acc: 0.9163  loss:0.2374\n",
      "[ epoch:4, time:2.6041150093078613 ]  acc: 0.9223  loss:0.2172\n",
      "[ epoch:5, time:2.6414101123809814 ]  acc: 0.9280  loss:0.2003\n",
      "[ epoch:6, time:2.621795177459717 ]  acc: 0.9335  loss:0.1840\n",
      "[ epoch:7, time:2.607133150100708 ]  acc: 0.9362  loss:0.1744\n",
      "[ epoch:8, time:2.604882001876831 ]  acc: 0.9402  loss:0.1599\n",
      "[ epoch:9, time:2.605173110961914 ]  acc: 0.9436  loss:0.1480\n",
      "[ epoch:10, time:2.5979998111724854 ]  acc: 0.9483  loss:0.1397\n",
      "[ epoch:11, time:2.586045980453491 ]  acc: 0.9528  loss:0.1268\n",
      "[ epoch:12, time:2.5987942218780518 ]  acc: 0.9595  loss:0.1163\n",
      "[ epoch:13, time:2.605975866317749 ]  acc: 0.9587  loss:0.1117\n",
      "[ epoch:14, time:2.6124019622802734 ]  acc: 0.9639  loss:0.0971\n",
      "[ epoch:15, time:2.594650983810425 ]  acc: 0.9665  loss:0.0904\n",
      "[ epoch:16, time:2.622886896133423 ]  acc: 0.9675  loss:0.0843\n",
      "[ epoch:17, time:2.6024420261383057 ]  acc: 0.9706  loss:0.0755\n",
      "[ epoch:18, time:2.6062779426574707 ]  acc: 0.9745  loss:0.0699\n",
      "[ epoch:19, time:2.6190247535705566 ]  acc: 0.9752  loss:0.0686\n",
      "[ epoch:20, time:2.625396966934204 ]  acc: 0.9797  loss:0.0625\n",
      "[ epoch:21, time:2.6180360317230225 ]  acc: 0.9804  loss:0.0520\n",
      "[ epoch:22, time:2.5917060375213623 ]  acc: 0.9801  loss:0.0534\n",
      "[ epoch:23, time:2.617743968963623 ]  acc: 0.9800  loss:0.0588\n",
      "[ epoch:24, time:2.6129331588745117 ]  acc: 0.9830  loss:0.0459\n",
      "[ epoch:25, time:2.6208930015563965 ]  acc: 0.9828  loss:0.0499\n",
      "[ epoch:26, time:2.619817018508911 ]  acc: 0.9873  loss:0.0363\n",
      "[ epoch:27, time:2.6271450519561768 ]  acc: 0.9892  loss:0.0309\n",
      "[ epoch:28, time:2.613409996032715 ]  acc: 0.9873  loss:0.0358\n",
      "[ epoch:29, time:2.610517978668213 ]  acc: 0.9894  loss:0.0308\n",
      "[ epoch:30, time:2.611166000366211 ]  acc: 0.9914  loss:0.0246\n",
      "[ epoch:31, time:2.6154778003692627 ]  acc: 0.9948  loss:0.0150\n",
      "[ epoch:32, time:2.613529920578003 ]  acc: 0.9869  loss:0.0389\n",
      "[ epoch:33, time:2.6118290424346924 ]  acc: 0.9873  loss:0.0361\n",
      "[ epoch:34, time:2.596633195877075 ]  acc: 0.9883  loss:0.0378\n",
      "[ epoch:35, time:2.6436779499053955 ]  acc: 0.9954  loss:0.0158\n",
      "[ epoch:36, time:2.6138370037078857 ]  acc: 0.9948  loss:0.0177\n",
      "[ epoch:37, time:2.6111550331115723 ]  acc: 0.9974  loss:0.0074\n",
      "[ epoch:38, time:2.610887289047241 ]  acc: 0.9958  loss:0.0120\n",
      "[ epoch:39, time:2.612175226211548 ]  acc: 0.9985  loss:0.0049\n",
      "[ epoch:40, time:2.6200859546661377 ]  acc: 0.9976  loss:0.0058\n",
      "[ epoch:41, time:2.7225022315979004 ]  acc: 0.9937  loss:0.0186\n",
      "[ epoch:42, time:2.618318796157837 ]  acc: 0.9980  loss:0.0063\n",
      "[ epoch:43, time:2.6044700145721436 ]  acc: 0.9953  loss:0.0128\n",
      "[ epoch:44, time:2.5985140800476074 ]  acc: 0.9949  loss:0.0133\n",
      "[ epoch:45, time:2.6048011779785156 ]  acc: 0.9971  loss:0.0070\n",
      "[ epoch:46, time:2.625281810760498 ]  acc: 0.9925  loss:0.0240\n",
      "[ epoch:47, time:2.6024279594421387 ]  acc: 0.9948  loss:0.0177\n",
      "[ epoch:48, time:2.6549723148345947 ]  acc: 0.9964  loss:0.0100\n",
      "[ epoch:49, time:2.608448028564453 ]  acc: 0.9982  loss:0.0049\n",
      "[ epoch:50, time:2.6218340396881104 ]  acc: 0.9984  loss:0.0032\n",
      "[ epoch:51, time:2.624790906906128 ]  acc: 0.9985  loss:0.0037\n",
      "[ epoch:52, time:2.6136040687561035 ]  acc: 0.9982  loss:0.0053\n",
      "[ epoch:53, time:2.621001958847046 ]  acc: 0.9983  loss:0.0043\n",
      "[ epoch:54, time:2.6406960487365723 ]  acc: 0.9986  loss:0.0028\n",
      "[ epoch:55, time:2.642561912536621 ]  acc: 0.9987  loss:0.0029\n",
      "[ epoch:56, time:2.6127078533172607 ]  acc: 0.9985  loss:0.0029\n",
      "[ epoch:57, time:2.6168460845947266 ]  acc: 0.9986  loss:0.0026\n",
      "[ epoch:58, time:2.6302552223205566 ]  acc: 0.9985  loss:0.0031\n",
      "[ epoch:59, time:2.624932050704956 ]  acc: 0.9982  loss:0.0040\n",
      "[ epoch:60, time:2.6252729892730713 ]  acc: 0.9984  loss:0.0029\n",
      "[ epoch:61, time:2.6370301246643066 ]  acc: 0.9989  loss:0.0025\n",
      "[ epoch:62, time:2.6380951404571533 ]  acc: 0.9985  loss:0.0025\n",
      "[ epoch:63, time:2.6350977420806885 ]  acc: 0.9987  loss:0.0023\n",
      "[ epoch:64, time:2.6196038722991943 ]  acc: 0.9989  loss:0.0023\n",
      "[ epoch:65, time:2.6215670108795166 ]  acc: 0.9984  loss:0.0024\n",
      "[ epoch:66, time:2.622688055038452 ]  acc: 0.9984  loss:0.0026\n",
      "[ epoch:67, time:2.613596200942993 ]  acc: 0.9989  loss:0.0024\n",
      "[ epoch:68, time:2.626373767852783 ]  acc: 0.9984  loss:0.0025\n",
      "[ epoch:69, time:2.6270532608032227 ]  acc: 0.9985  loss:0.0022\n",
      "[ epoch:70, time:2.6229777336120605 ]  acc: 0.9986  loss:0.0024\n",
      "[ epoch:71, time:2.634305000305176 ]  acc: 0.9983  loss:0.0023\n",
      "[ epoch:72, time:2.6224000453948975 ]  acc: 0.9989  loss:0.0022\n",
      "[ epoch:73, time:2.612635850906372 ]  acc: 0.9986  loss:0.0022\n",
      "[ epoch:74, time:2.6371569633483887 ]  acc: 0.9986  loss:0.0022\n",
      "[ epoch:75, time:2.610095739364624 ]  acc: 0.9984  loss:0.0021\n",
      "[ epoch:76, time:2.6178009510040283 ]  acc: 0.9987  loss:0.0021\n",
      "[ epoch:77, time:2.6147620677948 ]  acc: 0.9987  loss:0.0021\n",
      "[ epoch:78, time:2.6132757663726807 ]  acc: 0.9986  loss:0.0021\n",
      "[ epoch:79, time:2.6191670894622803 ]  acc: 0.9987  loss:0.0020\n",
      "[ epoch:80, time:2.6529669761657715 ]  acc: 0.9987  loss:0.0022\n",
      "[ epoch:81, time:2.6027560234069824 ]  acc: 0.9984  loss:0.0022\n",
      "[ epoch:82, time:2.6124050617218018 ]  acc: 0.9985  loss:0.0021\n",
      "[ epoch:83, time:2.6238582134246826 ]  acc: 0.9984  loss:0.0021\n",
      "[ epoch:84, time:2.6333279609680176 ]  acc: 0.9987  loss:0.0021\n",
      "[ epoch:85, time:2.6099448204040527 ]  acc: 0.9985  loss:0.0021\n",
      "[ epoch:86, time:2.612518072128296 ]  acc: 0.9985  loss:0.0021\n",
      "[ epoch:87, time:2.6137070655822754 ]  acc: 0.9985  loss:0.0021\n",
      "[ epoch:88, time:2.605350971221924 ]  acc: 0.9984  loss:0.0021\n",
      "[ epoch:89, time:2.6416420936584473 ]  acc: 0.9986  loss:0.0021\n",
      "[ epoch:90, time:2.6029608249664307 ]  acc: 0.9986  loss:0.0021\n",
      "[ epoch:91, time:2.625553846359253 ]  acc: 0.9984  loss:0.0022\n",
      "[ epoch:92, time:2.6139557361602783 ]  acc: 0.9984  loss:0.0022\n",
      "[ epoch:93, time:2.6193079948425293 ]  acc: 0.9986  loss:0.0021\n",
      "[ epoch:94, time:2.6282870769500732 ]  acc: 0.9986  loss:0.0021\n",
      "[ epoch:95, time:2.6238272190093994 ]  acc: 0.9985  loss:0.0021\n",
      "[ epoch:96, time:2.611239194869995 ]  acc: 0.9987  loss:0.0021\n",
      "[ epoch:97, time:2.621680736541748 ]  acc: 0.9984  loss:0.0021\n",
      "[ epoch:98, time:2.613435983657837 ]  acc: 0.9986  loss:0.0020\n",
      "[ epoch:99, time:2.6071579456329346 ]  acc: 0.9985  loss:0.0020\n",
      "[ epoch:100, time:2.624730110168457 ]  acc: 0.9986  loss:0.0020\n"
     ]
    }
   ],
   "source": [
    "model.fit(x_feature, y_train)"
   ]
  },
  {
   "cell_type": "code",
   "execution_count": 26,
   "metadata": {},
   "outputs": [
    {
     "name": "stdout",
     "output_type": "stream",
     "text": [
      "0.9990813045475425\n",
      "0.9292279411764706\n"
     ]
    }
   ],
   "source": [
    "print(model.evaluate(x_feature.float(), y_train))\n",
    "print(model.evaluate(torch.tensor(vec2sum(x_valid, dim)).float(), y_valid))"
   ]
  },
  {
   "cell_type": "code",
   "execution_count": 27,
   "metadata": {},
   "outputs": [
    {
     "data": {
      "image/png": "[encoded data removed]",
      "text/plain": [
       "<Figure size 432x288 with 2 Axes>"
      ]
     },
     "metadata": {
      "needs_background": "light"
     },
     "output_type": "display_data"
    }
   ],
   "source": [
    "model.visualize()"
   ]
  },
  {
   "cell_type": "code",
   "execution_count": null,
   "metadata": {},
   "outputs": [],
   "source": []
  }
 ],
 "metadata": {
  "kernelspec": {
   "display_name": "Python 3",
   "language": "python",
   "name": "python3"
  },
  "language_info": {
   "codemirror_mode": {
    "name": "ipython",
    "version": 3
   },
   "file_extension": ".py",
   "mimetype": "text/x-python",
   "name": "python",
   "nbconvert_exporter": "python",
   "pygments_lexer": "ipython3",
   "version": "3.7.3"
  }
 },
 "nbformat": 4,
 "nbformat_minor": 2
}
